{
 "cells": [
  {
   "cell_type": "markdown",
   "id": "dress-perspective",
   "metadata": {},
   "source": [
    "# 시퀀스\n",
    "### 시퀀스데이터\n",
    "- 시퀀스 데이터는 나열된 데이터를 의미\n",
    "- 각 요소들이 동일한 속성을 띌 필요없고, 어떤 기준에 따라 정렬되지 않아도 된다.\n",
    "- 살면서 마주치는 거의 모든 데이터들이 시퀀스 데이터\n",
    "\n",
    "### RNN\n",
    "- 어떤 문법적인 원리를 통해서가 아니고 수많은 글을 읽게 함으로써 다음에 올 문장을 예측\n",
    "- 그 방식을 잘 처리하는 인공지능 중 하나가 RNN"
   ]
  },
  {
   "cell_type": "markdown",
   "id": "statistical-induction",
   "metadata": {},
   "source": [
    "나는 밥을 먹었다"
   ]
  },
  {
   "cell_type": "code",
   "execution_count": 1,
   "id": "elegant-buddy",
   "metadata": {},
   "outputs": [
    {
     "name": "stdout",
     "output_type": "stream",
     "text": [
      "source 문장 : <start>나는 밥을 먹었다\n",
      "Target 문장 : 나는 밥을 먹었다<end>\n"
     ]
    }
   ],
   "source": [
    "sentence = \"나는 밥을 먹었다\"\n",
    "\n",
    "\n",
    "source_sentence = \"<start>\" + sentence\n",
    "target_sentence = sentence+\"<end>\"\n",
    "\n",
    "print(\"source 문장 :\", source_sentence)\n",
    "print(\"Target 문장 :\", target_sentence)"
   ]
  },
  {
   "cell_type": "markdown",
   "id": "authorized-davis",
   "metadata": {},
   "source": [
    "# 데이터 다듬기"
   ]
  },
  {
   "cell_type": "markdown",
   "id": "elementary-tulsa",
   "metadata": {},
   "source": [
    "### 데이터 다운로드"
   ]
  },
  {
   "cell_type": "code",
   "execution_count": 2,
   "id": "approved-criterion",
   "metadata": {},
   "outputs": [
    {
     "name": "stdout",
     "output_type": "stream",
     "text": [
      "['First Citizen:', 'Before we proceed any further, hear me speak.', '', 'All:', 'Speak, speak.', '', 'First Citizen:', 'You are all resolved rather to die than to famish?', '']\n"
     ]
    }
   ],
   "source": [
    "# 라이브러리\n",
    "import os, re\n",
    "import numpy as np\n",
    "import tensorflow as tf\n",
    "\n",
    "file_path = os.getenv(\"HOME\") + '/aiffel/lyricist/data/shakespeare.txt'\n",
    "with open(file_path, \"r\") as f: # 읽기전용('r')으로 file을 불러온다. file은 f로 칭한다.\n",
    "    raw_corpus = f.read().splitlines() # file을 한줄씩 읽어오는데 .splitlines()로 종료문자 \\n을 포함하지 않음.\n",
    "    \n",
    "print(raw_corpus[:9]) # 0~9 인덱스까지"
   ]
  },
  {
   "cell_type": "markdown",
   "id": "valued-championship",
   "metadata": {},
   "source": [
    "- 원치않는문장:\n",
    "[0,3,6] 번째 인덱스, [2,5,9] 번째 인덱스(공백 문장)\n",
    "- 화자가 표기된 문장은 :로 끝나므로 : 기준으로 문장을 제외\n",
    "- 공백인 문장은 길이를 검사하여 길이가 0이면 제외"
   ]
  },
  {
   "cell_type": "code",
   "execution_count": 3,
   "id": "comparable-copyright",
   "metadata": {},
   "outputs": [
    {
     "name": "stdout",
     "output_type": "stream",
     "text": [
      "Before we proceed any further, hear me speak.\n",
      "Speak, speak.\n",
      "You are all resolved rather to die than to famish?\n"
     ]
    }
   ],
   "source": [
    "for idx, sentence in enumerate(raw_corpus):\n",
    "    if len(sentence) == 0: # sentence문장이 공백일때 제외\n",
    "        continue\n",
    "    if sentence[-1]==\":\": # sentence 문장의 맨끝이 \":\"일때 제외\n",
    "        continue\n",
    "        \n",
    "    if idx>9: # 우선 문장 10개만 확인\n",
    "        break\n",
    "        \n",
    "    print(sentence)"
   ]
  },
  {
   "cell_type": "markdown",
   "id": "cutting-distribution",
   "metadata": {},
   "source": [
    "### 몇 가지의 문제되는 케이스\n",
    "- 1. Hi, my name is John. - 문장부호\n",
    "- 2. First, open the first chapter. - 대소문자\n",
    "- 3. He is a ten-year-old boy. - 특수문자\n",
    "\n",
    "### 해결\n",
    "- 1. 문장 부호양쪽에 공백추가\n",
    "- 2. 모든 문자들을 소문자로 변환\n",
    "- 3. 특수문자들은 모두 제거"
   ]
  },
  {
   "cell_type": "code",
   "execution_count": 13,
   "id": "mysterious-brave",
   "metadata": {},
   "outputs": [
    {
     "name": "stdout",
     "output_type": "stream",
     "text": [
      "<start> this is sample sentence . <end>\n"
     ]
    }
   ],
   "source": [
    "# 정규표현식(Regex)를 이용한 필터링\n",
    "#     1. 소문자로 바꾸고, 양쪽 공백을 지웁니다\n",
    "#     2. 특수문자 양쪽에 공백을 넣고\n",
    "#     3. 여러개의 공백은 하나의 공백으로 바꿉니다\n",
    "#     4. a-zA-Z?.!,¿가 아닌 모든 문자를 하나의 공백으로 바꿉니다\n",
    "#     5. 다시 양쪽 공백을 지웁니다\n",
    "#     6. 문장 시작에는 <start>, 끝에는 <end>를 추가합니다\n",
    "\n",
    "def preprocess_sentence(sentence):\n",
    "    sentence = sentence.lower().strip() # 1\n",
    "    sentence = re.sub(r\"([?.!,¿])\", r\" \\1 \", sentence) # 2\n",
    "    sentence = re.sub(r'[\" \"]+', \" \", sentence) # 3\n",
    "    sentence = re.sub(r\"[^a-zA-Z?.!,¿]+\", \" \", sentence) # 4\n",
    "    sentence = sentence.strip() # 5\n",
    "    sentence = '<start> ' + sentence + ' <end>' # 6\n",
    "    return sentence\n",
    "\n",
    "\n",
    "print(preprocess_sentence(\"This @_is ;;;sample        sentence.\"))"
   ]
  },
  {
   "cell_type": "markdown",
   "id": "extreme-reply",
   "metadata": {},
   "source": [
    "- 모델의 입력이 되는 문장을 소스문장(source sentence), 정답역할을 하게 될 출력 문장을 타겟문장(Target sentence)라고 한다.\n",
    "- source sen = X_train, Target sen = y_train"
   ]
  },
  {
   "cell_type": "code",
   "execution_count": 14,
   "id": "decent-anderson",
   "metadata": {},
   "outputs": [
    {
     "data": {
      "text/plain": [
       "['<start> before we proceed any further , hear me speak . <end>',\n",
       " '<start> speak , speak . <end>',\n",
       " '<start> you are all resolved rather to die than to famish ? <end>',\n",
       " '<start> resolved . resolved . <end>',\n",
       " '<start> first , you know caius marcius is chief enemy to the people . <end>',\n",
       " '<start> we know t , we know t . <end>',\n",
       " '<start> let us kill him , and we ll have corn at our own price . <end>',\n",
       " '<start> is t a verdict ? <end>',\n",
       " '<start> no more talking on t let it be done away , away ! <end>',\n",
       " '<start> one word , good citizens . <end>']"
      ]
     },
     "execution_count": 14,
     "metadata": {},
     "output_type": "execute_result"
    }
   ],
   "source": [
    "corpus = [] # 정제된 문장 넣는 빈 리스트\n",
    "\n",
    "for sentence in raw_corpus:\n",
    "    # 원치않는 문장 건너뛰기\n",
    "    if len(sentence)==0: continue\n",
    "    if sentence[-1]==\":\": continue\n",
    "        \n",
    "    # 정제하고 corpus에 넣기\n",
    "    preprocessed_sentence = preprocess_sentence(sentence)\n",
    "    corpus.append(preprocessed_sentence)\n",
    "    \n",
    "corpus[:10]"
   ]
  },
  {
   "cell_type": "markdown",
   "id": "emerging-soviet",
   "metadata": {},
   "source": [
    "이제 이 데이터들을 숫자로 변환해서 인공지능에게 줘야한다.\n",
    "Tensorflow는 자연어 처리를 위한 모듈을 제공\n",
    "정제된 데이터를 토큰화, 단어사전을 만들고, 데이터를 숫자로 변환까지 해주는것을 **벡터화**라고 하며, 숫자로 변환된 데이터를 **Tensor**라고 한다."
   ]
  },
  {
   "cell_type": "code",
   "execution_count": 16,
   "id": "overall-toronto",
   "metadata": {},
   "outputs": [
    {
     "name": "stdout",
     "output_type": "stream",
     "text": [
      "[[   2  143   40 ...    0    0    0]\n",
      " [   2  110    4 ...    0    0    0]\n",
      " [   2   11   50 ...    0    0    0]\n",
      " ...\n",
      " [   2  149 4553 ...    0    0    0]\n",
      " [   2   34   71 ...    0    0    0]\n",
      " [   2  945   34 ...    0    0    0]] <keras_preprocessing.text.Tokenizer object at 0x7f097a29dad0>\n"
     ]
    }
   ],
   "source": [
    "# 토큰화\n",
    "def tokenize(corpus):\n",
    "    tokenizer = tf.keras.preprocessing.text.Tokenizer(\n",
    "        # 7000단어를 기억할 수 있는 tokenizer\n",
    "        # 이미 문장을 정제하였으니 filters가 필요없다.\n",
    "        # 7000 단어에 포함되지 못한 단어는 '<unk>'로 변환\n",
    "        num_words=7000,\n",
    "        filters='',\n",
    "        oov_token='<unk>'\n",
    "    )\n",
    "    # corpus를 이용하여 tokenizer 내부의 단어장 완성\n",
    "    tokenizer.fit_on_texts(corpus)\n",
    "    # tokenizer 이용하여 corpus를 Tensor로 변환\n",
    "    tensor = tokenizer.texts_to_sequences(corpus)\n",
    "    # 시퀀스 길이 일정하게\n",
    "    # 시퀀스가 짧으면 문장 뒤에 패딩을 붙여 길이를 맞춰준다.\n",
    "    # 문장 앞에 패딩을 붙여 길이를 맞추려면 padding='pre'사용\n",
    "    tensor = tf.keras.preprocessing.sequence.pad_sequences(tensor, padding='post')\n",
    "    \n",
    "    \n",
    "    print(tensor, tokenizer)\n",
    "    return tensor, tokenizer\n",
    "\n",
    "tensor, tokenizer = tokenize(corpus)"
   ]
  },
  {
   "cell_type": "code",
   "execution_count": 17,
   "id": "cathedral-geography",
   "metadata": {},
   "outputs": [
    {
     "name": "stdout",
     "output_type": "stream",
     "text": [
      "[[   2  143   40  933  140  591    4  124   24  110]\n",
      " [   2  110    4  110    5    3    0    0    0    0]\n",
      " [   2   11   50   43 1201  316    9  201   74    9]]\n"
     ]
    }
   ],
   "source": [
    "print(tensor[:3, :10])"
   ]
  },
  {
   "cell_type": "markdown",
   "id": "inclusive-going",
   "metadata": {},
   "source": [
    "- tokenizer에 구축된 단어 사전의 인덱스"
   ]
  },
  {
   "cell_type": "code",
   "execution_count": 18,
   "id": "going-wyoming",
   "metadata": {},
   "outputs": [
    {
     "name": "stdout",
     "output_type": "stream",
     "text": [
      "1 : <unk>\n",
      "2 : <start>\n",
      "3 : <end>\n",
      "4 : ,\n",
      "5 : .\n",
      "6 : the\n",
      "7 : and\n",
      "8 : i\n",
      "9 : to\n",
      "10 : of\n"
     ]
    }
   ],
   "source": [
    "for idx in tokenizer.index_word:\n",
    "    print(idx,\":\",tokenizer.index_word[idx]) # tokenizer변수에 저장되어 있는 단어 사전의 인덱스\n",
    "    \n",
    "    if idx >=10:break"
   ]
  },
  {
   "cell_type": "markdown",
   "id": "fewer-springfield",
   "metadata": {},
   "source": [
    "- 모든 인덱스가 2로 시작하는 이유를 알 수 있다.\n",
    "- 사전에는 없지만 0 : < pad >가 된다."
   ]
  },
  {
   "cell_type": "code",
   "execution_count": 19,
   "id": "mighty-pizza",
   "metadata": {},
   "outputs": [
    {
     "name": "stdout",
     "output_type": "stream",
     "text": [
      "[  2 143  40 933 140 591   4 124  24 110   5   3   0   0   0   0   0   0\n",
      "   0   0]\n",
      "[143  40 933 140 591   4 124  24 110   5   3   0   0   0   0   0   0   0\n",
      "   0   0]\n"
     ]
    }
   ],
   "source": [
    "# tensor에서 마지막 토큰을 잘라내서 소스문장 생성\n",
    "# 마지막 토큰은 <end>가 아니고 <pad>일 가능성높음\n",
    "src_input = tensor[:,:-1]\n",
    "# tensor에서 <start>를 잘라내서 타겟문장 생성\n",
    "tgt_input = tensor[:,1:]\n",
    "\n",
    "print(src_input[0])\n",
    "print(tgt_input[0])"
   ]
  },
  {
   "cell_type": "markdown",
   "id": "automotive-holiday",
   "metadata": {},
   "source": [
    "데이터셋을 이미 tensor형태로 생성해 두었으므로, tf.data.Dataset객체를 생성한다."
   ]
  },
  {
   "cell_type": "code",
   "execution_count": 20,
   "id": "burning-modification",
   "metadata": {},
   "outputs": [
    {
     "data": {
      "text/plain": [
       "<BatchDataset shapes: ((256, 20), (256, 20)), types: (tf.int32, tf.int32)>"
      ]
     },
     "execution_count": 20,
     "metadata": {},
     "output_type": "execute_result"
    }
   ],
   "source": [
    "BUFFER_SIZE = len(src_input)\n",
    "BATCH_SIZE = 256\n",
    "steps_per_epoch = len(src_input)//BATCH_SIZE\n",
    "\n",
    "# tokenizer가 구축한 단어사전 내 7000개와, 여기 포함되지 않은 0:<pad>를 포함하여 7001개\n",
    "VOCAB_SIZE = tokenizer.num_words+1\n",
    "\n",
    "# 준비한 데이터 소스로부터 데이터셋을 만듭니다\n",
    "# 데이터셋에 대해서는 아래 문서를 참고하세요\n",
    "# 자세히 알아둘수록 도움이 많이 되는 중요한 문서입니다\n",
    "# https://www.tensorflow.org/api_docs/python/tf/data/Dataset\n",
    "\n",
    "dataset=tf.data.Dataset.from_tensor_slices((src_input, tgt_input)) # tensor --> tf.data.Dataset으로 변환\n",
    "dataset=dataset.shuffle(BUFFER_SIZE) # 완벽한 셔플링을 위해서는 데이터셋의 전체 크기보다 크거나 같은 Buffersize필요\n",
    "dataset=dataset.batch(BATCH_SIZE,drop_remainder=True) # 256개씩 묶고 나머지 제거\n",
    "dataset"
   ]
  },
  {
   "cell_type": "markdown",
   "id": "choice-point",
   "metadata": {},
   "source": [
    "## 중요\n",
    "- 1. 정규표현식을 이용한 corpus 생성\n",
    "- 2. tf.keras.preprocessing.text.Tokenizer 이용한 corpus를 tensor로 변환\n",
    "- 3. tf.data.Dataset.from_tensor_slices() 이용한 tensor를 tf.data.Dataset객체로 변환\n",
    "\n",
    "## 이 모든 과정들을 데이터전처리라고 칭한다."
   ]
  },
  {
   "cell_type": "markdown",
   "id": "opposite-somerset",
   "metadata": {},
   "source": [
    "========================================================================================================="
   ]
  },
  {
   "cell_type": "markdown",
   "id": "clean-fundamental",
   "metadata": {},
   "source": [
    "## 실습 : 인공지능 학습"
   ]
  },
  {
   "cell_type": "code",
   "execution_count": 22,
   "id": "decent-tutorial",
   "metadata": {},
   "outputs": [],
   "source": [
    "class TextGenerator(tf.keras.Model):\n",
    "    def __init__(self,vocab_size, embedding_size,hidden_size):\n",
    "        super().__init__()\n",
    "        # embedding Layer\n",
    "        self.embedding = tf.keras.layers.Embedding(vocab_size, embedding_size)# 인덱스 값을 해당 인덱스 번째의 워드벡터로 바꿔준다. embedding_size : 단어가 추상적으로 표현되는 크기\n",
    "        # 2개의 LSTM Layer\n",
    "        self.rnn_1 = tf.keras.layers.LSTM(hidden_size, return_sequences=True) # return_sequences : many to many\n",
    "        self.rnn_2 = tf.keras.layers.LSTM(hidden_size, return_sequences=True) \n",
    "        # 1개의 Dense Layer\n",
    "        self.linear = tf.keras.layers.Dense(vocab_size)\n",
    "        \n",
    "    def call(self, x):\n",
    "        out = self.embedding(x)\n",
    "        out = self.rnn_1(out)\n",
    "        out = self.rnn_2(out)\n",
    "        out = self.linear(out)\n",
    "        \n",
    "        return out\n",
    "    \n",
    "embedding_size=256\n",
    "hidden_size=1024\n",
    "model = TextGenerator(tokenizer.num_words+1, embedding_size, hidden_size)"
   ]
  },
  {
   "cell_type": "code",
   "execution_count": 23,
   "id": "flexible-literature",
   "metadata": {},
   "outputs": [
    {
     "data": {
      "text/plain": [
       "<tf.Tensor: shape=(256, 20, 7001), dtype=float32, numpy=\n",
       "array([[[ 4.65038784e-06, -2.24122632e-05, -3.65347252e-04, ...,\n",
       "         -8.63523819e-05,  8.65471447e-05,  8.37919379e-06],\n",
       "        [ 3.92112415e-04, -1.47646220e-04, -4.94217151e-04, ...,\n",
       "         -4.46202408e-04,  1.27691150e-04,  4.90672188e-04],\n",
       "        [ 5.89309202e-04, -5.40256951e-05, -3.20299412e-04, ...,\n",
       "         -3.22111184e-04,  1.71948021e-04,  6.70864480e-04],\n",
       "        ...,\n",
       "        [-7.57864851e-04,  1.58081995e-03, -2.20646011e-03, ...,\n",
       "         -4.80753195e-04,  1.50365615e-03, -2.33678264e-03],\n",
       "        [-5.97875740e-04,  1.50429190e-03, -2.61203921e-03, ...,\n",
       "         -6.58372010e-04,  1.70325220e-03, -2.49327393e-03],\n",
       "        [-4.16337425e-04,  1.40979129e-03, -2.94919871e-03, ...,\n",
       "         -8.22817499e-04,  1.88389444e-03, -2.61277473e-03]],\n",
       "\n",
       "       [[ 4.65038784e-06, -2.24122632e-05, -3.65347252e-04, ...,\n",
       "         -8.63523819e-05,  8.65471447e-05,  8.37919379e-06],\n",
       "        [ 1.91560874e-04,  4.55135560e-05, -7.41504831e-04, ...,\n",
       "         -2.09940714e-04,  4.93644038e-04,  7.58979058e-06],\n",
       "        [ 4.82354051e-04, -1.76874863e-04, -7.68662547e-04, ...,\n",
       "         -2.72999314e-04,  8.58674524e-04,  2.90902972e-04],\n",
       "        ...,\n",
       "        [-8.36946492e-05,  8.73308687e-04, -1.81784295e-03, ...,\n",
       "         -1.11185038e-03,  1.08769094e-03, -2.25234265e-03],\n",
       "        [-1.45856775e-05,  8.66904273e-04, -2.26207729e-03, ...,\n",
       "         -1.15151994e-03,  1.34953193e-03, -2.38387007e-03],\n",
       "        [ 8.26145260e-05,  8.48523981e-04, -2.64027435e-03, ...,\n",
       "         -1.21044833e-03,  1.59166055e-03, -2.48128315e-03]],\n",
       "\n",
       "       [[ 4.65038784e-06, -2.24122632e-05, -3.65347252e-04, ...,\n",
       "         -8.63523819e-05,  8.65471447e-05,  8.37919379e-06],\n",
       "        [-3.29569273e-04,  2.82200082e-04, -6.38606551e-04, ...,\n",
       "         -1.51769607e-04,  1.41500073e-04, -1.06591360e-04],\n",
       "        [-6.06065092e-04,  6.10692077e-04, -5.55908540e-04, ...,\n",
       "         -3.04316491e-04, -7.11379325e-05, -2.28640245e-04],\n",
       "        ...,\n",
       "        [-2.88079464e-04,  9.64641222e-04, -3.38339619e-03, ...,\n",
       "         -9.92390211e-04,  1.84865016e-03, -2.54483102e-03],\n",
       "        [-9.30918468e-05,  8.96090118e-04, -3.57659580e-03, ...,\n",
       "         -1.10856106e-03,  2.02170387e-03, -2.61744019e-03],\n",
       "        [ 9.96783783e-05,  8.38705630e-04, -3.73722496e-03, ...,\n",
       "         -1.21604279e-03,  2.16603512e-03, -2.67929514e-03]],\n",
       "\n",
       "       ...,\n",
       "\n",
       "       [[ 4.65038784e-06, -2.24122632e-05, -3.65347252e-04, ...,\n",
       "         -8.63523819e-05,  8.65471447e-05,  8.37919379e-06],\n",
       "        [ 1.04956598e-04,  1.60600423e-04, -6.76362761e-05, ...,\n",
       "         -3.56856734e-04,  4.57000351e-05,  2.92006473e-04],\n",
       "        [ 2.43958842e-04, -4.22640296e-05, -2.76319061e-05, ...,\n",
       "         -6.71615009e-04,  2.67262021e-05,  4.26965940e-04],\n",
       "        ...,\n",
       "        [-8.40291148e-04,  1.62605545e-04, -1.77652866e-03, ...,\n",
       "         -9.00578045e-04,  6.51233597e-04, -1.36369071e-03],\n",
       "        [-8.18420493e-04,  2.93247605e-04, -2.24766042e-03, ...,\n",
       "         -9.79725970e-04,  9.44339437e-04, -1.56836852e-03],\n",
       "        [-7.31680775e-04,  3.89828783e-04, -2.65238970e-03, ...,\n",
       "         -1.06612034e-03,  1.21862034e-03, -1.74595625e-03]],\n",
       "\n",
       "       [[ 4.65038784e-06, -2.24122632e-05, -3.65347252e-04, ...,\n",
       "         -8.63523819e-05,  8.65471447e-05,  8.37919379e-06],\n",
       "        [ 1.04956598e-04,  1.60600423e-04, -6.76362761e-05, ...,\n",
       "         -3.56856734e-04,  4.57000351e-05,  2.92006473e-04],\n",
       "        [ 3.71111644e-04,  3.10726609e-04,  1.57897302e-04, ...,\n",
       "         -2.13730644e-04,  3.90863170e-06,  4.14735085e-04],\n",
       "        ...,\n",
       "        [-1.66347960e-03,  1.76047289e-03,  8.29811179e-05, ...,\n",
       "         -4.14679758e-04, -1.04344462e-03, -1.43638928e-03],\n",
       "        [-1.63196900e-03,  1.78791059e-03, -5.32090431e-04, ...,\n",
       "         -3.49955342e-04, -7.18241383e-04, -1.74592203e-03],\n",
       "        [-1.52264035e-03,  1.74673565e-03, -1.10779074e-03, ...,\n",
       "         -3.11753189e-04, -3.55159398e-04, -2.01353268e-03]],\n",
       "\n",
       "       [[ 4.65038784e-06, -2.24122632e-05, -3.65347252e-04, ...,\n",
       "         -8.63523819e-05,  8.65471447e-05,  8.37919379e-06],\n",
       "        [ 1.33424241e-04, -1.48320192e-04, -4.76679415e-04, ...,\n",
       "          1.72644461e-04,  1.71065971e-04, -8.03753719e-05],\n",
       "        [ 3.48900183e-04, -2.09628794e-04, -6.67507877e-04, ...,\n",
       "          2.68393749e-04,  5.59047003e-05, -1.39090567e-04],\n",
       "        ...,\n",
       "        [-3.42522253e-04,  7.55413785e-04, -3.81326536e-03, ...,\n",
       "         -9.62327584e-04,  2.17309175e-03, -3.04254144e-03],\n",
       "        [-1.42637728e-04,  7.27312290e-04, -3.93522810e-03, ...,\n",
       "         -1.09633163e-03,  2.29006447e-03, -3.07388231e-03],\n",
       "        [ 5.49440338e-05,  7.04383943e-04, -4.03199252e-03, ...,\n",
       "         -1.21712184e-03,  2.38596974e-03, -3.09272273e-03]]],\n",
       "      dtype=float32)>"
      ]
     },
     "execution_count": 23,
     "metadata": {},
     "output_type": "execute_result"
    }
   ],
   "source": [
    "for src_sample, tgt_sample in dataset.take(1):break # 1개의 배치를 가져온다. 256개의 문장데이터\n",
    "    \n",
    "model(src_sample)"
   ]
  },
  {
   "cell_type": "code",
   "execution_count": 24,
   "id": "relative-husband",
   "metadata": {},
   "outputs": [
    {
     "name": "stdout",
     "output_type": "stream",
     "text": [
      "Model: \"text_generator\"\n",
      "_________________________________________________________________\n",
      "Layer (type)                 Output Shape              Param #   \n",
      "=================================================================\n",
      "embedding (Embedding)        multiple                  1792256   \n",
      "_________________________________________________________________\n",
      "lstm (LSTM)                  multiple                  5246976   \n",
      "_________________________________________________________________\n",
      "lstm_1 (LSTM)                multiple                  8392704   \n",
      "_________________________________________________________________\n",
      "dense (Dense)                multiple                  7176025   \n",
      "=================================================================\n",
      "Total params: 22,607,961\n",
      "Trainable params: 22,607,961\n",
      "Non-trainable params: 0\n",
      "_________________________________________________________________\n"
     ]
    }
   ],
   "source": [
    "model.summary()"
   ]
  },
  {
   "cell_type": "code",
   "execution_count": 25,
   "id": "abroad-console",
   "metadata": {},
   "outputs": [
    {
     "name": "stdout",
     "output_type": "stream",
     "text": [
      "Epoch 1/30\n",
      "93/93 [==============================] - 58s 599ms/step - loss: 4.3851\n",
      "Epoch 2/30\n",
      "93/93 [==============================] - 64s 692ms/step - loss: 2.8146\n",
      "Epoch 3/30\n",
      "93/93 [==============================] - 65s 695ms/step - loss: 2.7154\n",
      "Epoch 4/30\n",
      "93/93 [==============================] - 65s 697ms/step - loss: 2.6167\n",
      "Epoch 5/30\n",
      "93/93 [==============================] - 65s 698ms/step - loss: 2.5328\n",
      "Epoch 6/30\n",
      "93/93 [==============================] - 65s 699ms/step - loss: 2.4911\n",
      "Epoch 7/30\n",
      "93/93 [==============================] - 65s 700ms/step - loss: 2.4396\n",
      "Epoch 8/30\n",
      "93/93 [==============================] - 65s 697ms/step - loss: 2.3811\n",
      "Epoch 9/30\n",
      "93/93 [==============================] - 65s 698ms/step - loss: 2.3250\n",
      "Epoch 10/30\n",
      "93/93 [==============================] - 65s 698ms/step - loss: 2.2689\n",
      "Epoch 11/30\n",
      "93/93 [==============================] - 65s 700ms/step - loss: 2.2235\n",
      "Epoch 12/30\n",
      "93/93 [==============================] - 65s 698ms/step - loss: 2.1832\n",
      "Epoch 13/30\n",
      "93/93 [==============================] - 65s 698ms/step - loss: 2.1295\n",
      "Epoch 14/30\n",
      "93/93 [==============================] - 65s 698ms/step - loss: 2.0828\n",
      "Epoch 15/30\n",
      "93/93 [==============================] - 65s 698ms/step - loss: 2.0471\n",
      "Epoch 16/30\n",
      "93/93 [==============================] - 65s 699ms/step - loss: 1.9984\n",
      "Epoch 17/30\n",
      "93/93 [==============================] - 65s 698ms/step - loss: 1.9467\n",
      "Epoch 18/30\n",
      "93/93 [==============================] - 65s 697ms/step - loss: 1.8966\n",
      "Epoch 19/30\n",
      "93/93 [==============================] - 65s 696ms/step - loss: 1.8532\n",
      "Epoch 20/30\n",
      "93/93 [==============================] - 65s 696ms/step - loss: 1.8027\n",
      "Epoch 21/30\n",
      "93/93 [==============================] - 65s 696ms/step - loss: 1.7610\n",
      "Epoch 22/30\n",
      "93/93 [==============================] - 65s 697ms/step - loss: 1.7154\n",
      "Epoch 23/30\n",
      "93/93 [==============================] - 65s 699ms/step - loss: 1.6693\n",
      "Epoch 24/30\n",
      "93/93 [==============================] - 65s 694ms/step - loss: 1.6207\n",
      "Epoch 25/30\n",
      "93/93 [==============================] - 65s 694ms/step - loss: 1.5718\n",
      "Epoch 26/30\n",
      "93/93 [==============================] - 64s 693ms/step - loss: 1.5203\n",
      "Epoch 27/30\n",
      "93/93 [==============================] - 65s 698ms/step - loss: 1.4750\n",
      "Epoch 28/30\n",
      "93/93 [==============================] - 65s 701ms/step - loss: 1.4230\n",
      "Epoch 29/30\n",
      "93/93 [==============================] - 65s 699ms/step - loss: 1.3779\n",
      "Epoch 30/30\n",
      "93/93 [==============================] - 65s 696ms/step - loss: 1.3262\n"
     ]
    },
    {
     "data": {
      "text/plain": [
       "<tensorflow.python.keras.callbacks.History at 0x7f09794bd0d0>"
      ]
     },
     "execution_count": 25,
     "metadata": {},
     "output_type": "execute_result"
    }
   ],
   "source": [
    "# 혹시 미리 알고 싶다면 아래 문서를 참고\n",
    "# https://www.tensorflow.org/api_docs/python/tf/keras/optimizers\n",
    "# https://www.tensorflow.org/api_docs/python/tf/keras/losses\n",
    "optimizer = tf.keras.optimizers.Adam() \n",
    "loss = tf.keras.losses.SparseCategoricalCrossentropy(\n",
    "    from_logits=True,\n",
    "    reduction='none'\n",
    ")\n",
    "\n",
    "model.compile(loss=loss, optimizer=optimizer)\n",
    "model.fit(dataset, epochs=30)"
   ]
  },
  {
   "cell_type": "code",
   "execution_count": 26,
   "id": "incorrect-brazilian",
   "metadata": {},
   "outputs": [],
   "source": [
    "def generate_text(model, tokenizer, init_sentence=\"<start>\", max_len=20):\n",
    "    # 테스트를 위해서 입력받은 init_sentence도 텐서로 변환합니다\n",
    "    test_input = tokenizer.texts_to_sequences([init_sentence])\n",
    "    test_tensor = tf.convert_to_tensor(test_input, dtype=tf.int64)\n",
    "    end_token = tokenizer.word_index[\"<end>\"]\n",
    "\n",
    "    # 단어 하나씩 예측해 문장을 만듭니다\n",
    "    #    1. 입력받은 문장의 텐서를 입력합니다\n",
    "    #    2. 예측된 값 중 가장 높은 확률인 word index를 뽑아냅니다\n",
    "    #    3. 2에서 예측된 word index를 문장 뒤에 붙입니다\n",
    "    #    4. 모델이 <end>를 예측했거나, max_len에 도달했다면 문장 생성을 마칩니다\n",
    "    while True:\n",
    "        # 1\n",
    "        predict = model(test_tensor) \n",
    "        # 2\n",
    "        predict_word = tf.argmax(tf.nn.softmax(predict, axis=-1), axis=-1)[:, -1] \n",
    "        # 3 \n",
    "        test_tensor = tf.concat([test_tensor, tf.expand_dims(predict_word, axis=0)], axis=-1)\n",
    "        # 4\n",
    "        if predict_word.numpy()[0] == end_token: break\n",
    "        if test_tensor.shape[1] >= max_len: break\n",
    "\n",
    "    generated = \"\"\n",
    "    # tokenizer를 이용해 word index를 단어로 하나씩 변환합니다 \n",
    "    for word_index in test_tensor[0].numpy():\n",
    "        generated += tokenizer.index_word[word_index] + \" \"\n",
    "\n",
    "    return generated"
   ]
  },
  {
   "cell_type": "code",
   "execution_count": 27,
   "id": "improving-defendant",
   "metadata": {},
   "outputs": [
    {
     "data": {
      "text/plain": [
       "'<start> he s a disease that made me <unk> , <end> '"
      ]
     },
     "execution_count": 27,
     "metadata": {},
     "output_type": "execute_result"
    }
   ],
   "source": [
    "generate_text(model, tokenizer, init_sentence=\"<start> he\") ## 4-6"
   ]
  },
  {
   "cell_type": "markdown",
   "id": "drawn-transformation",
   "metadata": {},
   "source": [
    "- generat_text() 함수에서 init_sentence를 인자로 받고있다."
   ]
  },
  {
   "cell_type": "code",
   "execution_count": null,
   "id": "unlimited-rugby",
   "metadata": {},
   "outputs": [],
   "source": []
  }
 ],
 "metadata": {
  "kernelspec": {
   "display_name": "Python 3",
   "language": "python",
   "name": "python3"
  },
  "language_info": {
   "codemirror_mode": {
    "name": "ipython",
    "version": 3
   },
   "file_extension": ".py",
   "mimetype": "text/x-python",
   "name": "python",
   "nbconvert_exporter": "python",
   "pygments_lexer": "ipython3",
   "version": "3.7.9"
  }
 },
 "nbformat": 4,
 "nbformat_minor": 5
}
