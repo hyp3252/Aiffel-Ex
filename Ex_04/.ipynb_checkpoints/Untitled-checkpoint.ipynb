{
 "cells": [
  {
   "cell_type": "markdown",
   "id": "median-landscape",
   "metadata": {},
   "source": [
    "# 칸예웨스트 말투로 새 문장 작성"
   ]
  },
  {
   "cell_type": "code",
   "execution_count": 30,
   "id": "sticky-grave",
   "metadata": {},
   "outputs": [
    {
     "name": "stdout",
     "output_type": "stream",
     "text": [
      "['\\ufeffEighteen years eighteen years', 'She got one of your kids got you for eighteen years', 'I know somebody paying child support for one of his kids', 'His baby mama car and crib is bigger than his', 'You will see him on TV any given Sunday', 'Win the Super Bowl and drive off in a Hyundai', 'She was supposed to buy your shorty Tyco with your money', 'She went to the doctor got lipo with your money', 'She walking around looking like Michael with your money', 'Shouldve got that insured Geico for your money', 'If you aint no punk', 'Holla We want prenup We want prenup Yeah', 'Its something that you need to have', 'Cause when she leave your ass she gon leave with half', 'Eighteen years eighteen years', 'And on the the birthday he found out it wasnt his', 'Now I aint saying you a gold digger you got needs', 'You dont want a dude to smoke but he cant buy weed', 'You go out to eat and he cant pay yall cant leave', 'Theres dishes in the back he gotta roll up your sleeves', 'But while yall washin watch him', 'He gone make it into a Benz out of that Datsun', 'He got that ambition baby look in his eyes', 'This week he mopping floors next week its the fries', 'So stick by his side', 'I know theres dudes ballin and yeah thats nice', 'And they gonna keep calling and trying but you stay right girl', 'And when you get on hell leave your ass for a white girl', 'Let the suicide doors up', 'I threw suicides on the tour bus', 'I threw suicides on the private jet', 'You know what that mean Im fly to death', 'I step in Def Jam buildin like Im the shit', 'Tell em give me fifty million or Ima quit', 'Most rappers taste level aint at my waist level', 'Turn up the bass til its upinyoface level', 'Dont do no press but I get the most press kit', 'Plus yo my bitch make your bitch look like Precious', 'Somethin bout Mary she gone off that molly', 'Now the whole party is melted like Dal‚àö‚â†', 'Now everybody is movin they body', 'Dont sell me apartment Ill move in the lobby', 'Niggas is loiterin just to feel important', 'You gon see lawyers and niggas in Jordans', 'She said Ye can we get married at the mall', 'I said Look you need to crawl fore you ball', 'Come and meet me in the bathroom stall', 'And show me why you deserve to have it all', 'Ball so hard That shit cray aint it Jay', 'What she order fish filet', 'Your whip so cold this old thing', 'Act like youll ever be around mothafuckas like this again', 'Bougie girl grab my hand', 'Fuck that bitch she dont wanna dance', 'Excuse my French but Im in France Im just sayin', 'Prince Williams aint do it right if you ask me', 'Cause I was him I would have married Kate and Ashley', 'Whats Gucci my nigga Whats Louis my killa', 'Whats drugs my dealer Whats that jacket Margiela', 'Doctors say Im the illest', 'Cause Im suffering from realness', 'Got my niggas in Paris and they going gorillas huh', 'Break records at Louis ate breakfast at Gucci', 'My girl a superstar all from a home movie', 'Bow on our arrival the unAmerican idols', 'What niggas did in Paris got em hanging off the Eiffel', 'Yeah Im talking business we talking CIA', 'Im talking George Tenet I seen him the other day', 'He asked me about my Maybach think he had the same', 'Except mine tinted and his might have been rented', 'You know white people get money dont spend it', 'Or maybe they get money buy a business', 'I rather buy gold chains and go ignant', 'I know Spike Lee gon kill me but let me finish', 'Blame it on the pigment we living no limits', 'Them gold Master P ceilings was just a figment', 'Of our imagination MTV cribs', 'Now Im looking at a crib right next to where TC lives', 'Thats Tom Cruise whatever she accuse', 'He wasnt really drunk he just had a frew brews', 'Pass the refreshments a cool cool beverage', 'Everything I do need a news crews presence', 'Speedboat swerve homie watch out for the waves', 'Im way too black to burn from sun rays', 'So I just meditate at the home in Pompeii', 'About how I could build a new Rome in one day', 'Everytime Im in Vegas they screaming like hes Elvis', 'But I just wanna design hotels and nail it', 'Shit is real got me feeling Israelian', 'Like Bar Refaeli or Gisele no thats Brazilian', 'Went through deep depression when my momma passed', 'Suicide what kinda talk is that', 'But I been talking to God for so long', 'That if you look at my life I guess hes talking back', 'Fucking with my clique', 'What you doin in the club on a Thursday', 'She say she only here for her girl birthday', 'They ordered champagne but still look thirsty', 'Rock Forever but just turned thirty', 'I know I got a bad reputation', 'Walkingroundalwaysmad reputation', 'Leaveaprettygirlsad reputation', 'Start a Fight Club Brad reputation', 'I turnt the nightclub out of the basement', 'Ill turn the plane round your ass keep complainin', 'How you gon be mad on vacation', 'Dutty wining round all these Jamaicans', 'Uh this that prom shit', 'This that whatwedodonttellyourmom shit', 'This that redcupallonthelawn shit', 'Got a fresh cut straight out the salon bitch', 'I wanna fuck you hard on the sink', 'After that give you somethin to drink', 'Step back cant get spunk on the mink', 'I mean damn what would Jeromey Romey Romey Rome think', 'Hey you remember where we first met', 'Okay I dont remember where we first met', 'But hey admittin is the first step', 'And hey you know aint nobody perfect', 'And I know with the hoes I got the worst rep', 'But hey their backstroke Im tryna perfect', 'And hey ayo we made it Thanksgivin', 'So hey maybe we can make it to Christmas', 'She asked me what I wished for on my wishlist', 'Have you ever asked your bitch for other bitches', 'Maybe we could still make it to the church steps', 'But first you gon remember how to forget', 'After all these longass verses', 'Im tired you tired Jesus wept', 'Coke on her black skin made it stripe like a zebra', 'I call that jungle fever', 'You will not control the threesome', 'Just roll the weed up until I get me some', 'We formed a new religion', 'No sins as long as theres permission', 'And deception is the only felony', 'So never fuck nobody without telling me', 'Sunglasses and Advil', 'Last night was mad real', 'Sun coming up am', 'I wonder if they got cabs still', 'Thinking bout the girl in all leopard', 'Who was rubbing the wood like Kiki Shepard', 'Two tattoos one read No Apologies', 'The other said Love is Cursed by Monogamy', 'Its something that the pastor dont preach', 'Its something that a teacher cant teach', 'When we die the money we cant keep', 'But we probably spend it all cause the pain aint cheap', 'Preach', 'Now if I fuck this model', 'And she just bleached her asshole', 'And I get bleach on my Tshirt', 'Imma feel like an asshole', 'I was high when I met her', 'We was down in Tribeca', 'She get under your skin if you let her', 'She get under your skin if youuh', 'I dont even want to talk about it', 'I dont even want to talk about it', 'I dont even want to say nothing', 'Everybody gon say something', 'Id be worried if they said nothing', 'Remind me where I know you from', 'She looking like she owe you some', 'You know just what we want', 'I want to wake up with you in my beautiful morning', 'My momma was raised in the era when', 'Clean water was only served to the fairer skin', 'Doin clothes you would have thought I had help', 'But they wasnt satisfied unless I picked the cotton myself', 'You see its broke nigga racism', 'Thats that Dont touch anything in the store', 'And its rich nigga racism', 'Thats that Come in please buy more', 'What you want a Bentley Fur coat A diamond chain', 'All you blacks want all the same things', 'Used to only be niggas now everybody playin', 'Spendin everything on Alexander Wang', 'New Slaves', 'I throw these Maybach keys', 'I wear my heart on the sleeve', 'I know that we the new slaves', 'I see the blood on the leaves', 'I see the blood on the leaves', 'I see the blood on the leaves', 'I know that we the new slaves', 'I see the blood on the leaves', 'They throwin hate at me', 'Want me to stay at ease', 'Fuck you and your corporation', 'Yall niggas cant control me', 'I know that we the new slaves', 'I know that we the new slaves', 'Im bout to wild the fuck out', 'Im goin Bobby Boucher', 'I know that pussy aint free', 'You niggas pussy aint me', 'Yall throwin contracts at me', 'You know that niggas cant read', 'Throw em some Maybach keys', 'Fuck it cest la vie', 'I know that we the new slaves', 'Yall niggas cant fuck with me', 'Yall niggas cant fuck with Ye', 'Yall niggas cant fuck with Ye', 'Ill move my family out the country', 'So you cant see where I stay', 'So go and grab the reporters', 'So I can smash their recorders', 'See theyll confuse us with some bullshit', 'Like the New World Order', 'Meanwhile the DEA', 'Teamed up with the CCA', 'They tryna lock niggas up', 'They tryna make new slaves', 'See thats that privately owned prison', 'Get your piece today', 'They prolly all in the Hamptons', 'Braggin bout what they made', 'Fuck you and your Hampton house', 'Ill fuck your Hampton spouse', 'Came on her Hampton blouse', 'And in her Hampton mouth', 'Yall bout to turn shit up', 'Im bout to tear shit down', 'Im bout to air shit out', 'Now what the fuck they gon say now', 'I just need to clear my mind now', 'Its been racin since the summertime', 'Now Im holdin down the summer now', 'And all I want is what I cant buy now', 'Cause I aint got the money on me right now', 'And I told you to wait', 'Yeah I told you to wait', 'So Imma need a little more time now', 'Cause I aint got the money on me right now', 'And I thought you could wait', 'Yeah I thought you could wait', 'These bitches surroundin me', 'All want something out me', 'Then they talk about me', 'Would be lost without me', 'We couldve been somebody', 'Thought youd be different bout it', 'Now I know you not it', 'So lets get on with it', 'We couldve been somebody', 'stead you had to tell somebody', 'Lets take it back to the first party', 'When you tried your first molly', 'And came out of your body', 'And came out of your body', 'Running naked down the lobby', 'And you was screamin that you love me', 'Before the limelight tore ya', 'Before the limelight stole ya', 'Remember we were so young', 'When I would hold you', 'Before the blood on the leaves', 'I know there aint wrong with me', 'Something strange is happenin', 'You couldve been somebody', 'We couldve ugh we couldve been somebody', 'Or was it on the first party', 'When we tried our first molly', 'And came out of our body', 'And came out of our body', 'Before they call lawyers', 'Before you tried to destroy us', 'How you gon lie to the lawyer', 'Its like I dont even know ya', 'I gotta bring it back to the nolia', 'To all my second string bitches try and get a baby', 'Trying to get a baby now you talkin crazy', 'I dont give a damn if you used to talk to Jay Z', 'He aint with you he with Beyonc‚àö¬© you need to stop actin lazy', 'She Instagram herself like BadBitchAlert', 'He Instagram his watch like MadRichAlert', 'He only wanna see that ass in reverse', 'Twothousanddollar bag with no cash in your purse', 'Now you sittin courtside wifey on the other side', 'Gotta keep em separated I call that apartheid', 'Then she said she impregnated thats the night your heart died', 'Then you gotta go and tell your girl and report that', 'Main reason cause your pastor said you cant abort that', 'Now your driver say that new Benz you cant afford that', 'All that cocaine on the table you cant snort that', 'That goin to that owin money that the court got', 'All in on that alimony uh yeahyeah she got you homie yeah', 'til death but do your part unholy matrimony', 'For my theme song black', 'My leather black jeans on black', 'My byanymeans on', 'Pardon Im getting my scream on', 'Enter the kingdom black', 'But watch who you bring home', 'They see a black man with a white woman', 'At the top floor they gone come to kill King Kong', 'Middle America packed in black', 'Came to see me in my black skin black', 'Number one question theyre askin', 'Fuck every question you askin black', 'If I dont get ran out by Catholics black', 'Here come some conservative Baptists', 'Claiming Im overreactin', 'Like them black kids in Chiraq bitch', 'Stop all that coon shit black', 'Early morning cartoon shit black', 'This is that goon shit', 'Fuck up your whole afternoon shit', 'Im aware Im a wolf', 'Soon as the moon hit', 'Im aware Im a king', 'Back out the tomb bitch black', 'Black out the room bitch black', 'Stop all that coon shit black', 'These niggas aint doin shit black', 'Them niggas aint doin shit', 'Come on homie what happened', 'You niggas aint breathin you gaspin', 'These niggas aint ready for action', 'Readyready for action', 'They smile in my face is what I dont like', 'They steal your whole sound thats a soundbite', 'The media crucify me like they did Christ', 'They want to find me not breathing like they found Mike', 'A girlll run her mouth only out of spite', 'But I never hit a woman never in my life', 'I was in too deep like Mekhi Phife', 'In that pussy so deep I could have drowned twice', 'Rose gold Jesus piece with the brown ice', 'Eating good vegetarian with the brown rice', 'Girls kissing girls cause its hot right', 'But unless they use a strapon then they not dykes', 'They aint about that life they aint about that life', 'We hanging out that window its about to be a Suge night', 'Free Bump J real nigga for life', 'Shoutout to Derrick Rose man that nigga nice', 'Shout out to LEP Jay Boogie right', 'Chief Keef King Louie this is Chi right Right', 'The best living or dead hands down huh', 'Less talk more head right now huh', 'And my eyes more red than the devil is', 'And Im about to take it to another level bitch', 'No matter who you go and get', 'Aint nobody cold as this', 'Do the rap and the track triple double no assists', 'And my only focus is staying on some bogus shit', 'Arguing with my older bitch acting like I owe her shit', 'I heard that people sing raps to give the track pain', 'Bought the chain that always give me back pain', 'Fucking up my money so yeah I had to act sane', 'Chi nigga but these hoes love my accent', 'Chick came up to me and said', 'This the number to dial', 'If you wanna make your your now', 'Mix that Goose and Malibu I call it Malibooyah', 'Goddamn Yeezy how he hit them with a new style', 'Know that motherfucker well What you gonna do now', 'Whatever I want to do Gosh Its cool now', 'Know Im gonna do ah its the new now', 'Think you motherfuckers really really need to cool out', 'Cause youll never get on top of this', 'So mommy best advice is just to get on top of this', 'Have you ever had sex with a pharaoh', 'Put the pussy in a sarcophagus', 'Now she claiming that I bruised her esophagus', 'Head of the class and she just won a swallowship', 'Im living in the future so the present is my past', 'My presence is a present kiss my ass', 'This Ye nigga', 'Shoppin for the winter and its just May nigga', 'Ball so hard man this shit cray nigga', 'And you aint gettin money less you got eight figures', 'For that Jesus piece man Ive been saved nigga', 'Just talked to Farrakhan thats sensei nigga', 'Told him Ive been on ten since the th grade nigga', 'Got a middle finger longer than Dikembe my nigga uh', 'I dont let em play with me', 'I dont let em talk to me no kind of way', 'Uh they better watch what they say to me', 'Niggas still gettin popped on the day to day', 'Yeah I still got the hundred with the small face nigga', 'Might spend racks on my off day nigga', 'You a fake Denzel like the Allstate nigga', 'If you run into me better have Allstate with yah', 'You a Rico Suave nigga', 'Ride round listen to Sade nigga', 'If you aint with us you in our way nigga', 'You an actor you should be on Broadway nigga', 'Cause you do shit the broad way nigga', 'Your bitch got a ass but my broad way thicker', 'Late for the class in the hallway nigga', 'Yeah the dropout at it as always nigga as always', 'All day nigga', 'I could do this all day boy Im finna turn this bitch out', 'They need that Ye in the streets boy theres been a mothafuckin drought', 'Dont really matter what I make boy you know I still go wild', 'Like a light skinned slave boy we in the mothafuckin house', 'Right now you lookin real sus right now', 'I swear Ive been on this flight like a month right now', 'Stupid niggas gettin money Forrest Gump right now', 'Shoutout to Jackie Chan I need to stunt right now', 'Theyve been lookin at the Gram Ive been lookin at the Grammys', 'Like huh thats us right now', 'days everybody gettin paid', 'Niggas lookin at me like Im worth both MJs', 'People saying Ye Ye take it easy', 'Gs for the Yeezys off of eBay', 'Niggas do the most and they aint done shit', 'Only way I can sum it up sumbitch', 'I told I told ay ay I told you', 'Up in the morning miss you bad', 'Sorry I aint called you back', 'Same problem my father had', 'All his time all he had all he had', 'In what he dreamed', 'All his cash market crashed', 'Hurt him bad people get divorced for that', 'Drops some stacks pops is good', 'Momma pass in Hollywood', 'If you ask lost my soul', 'Driving fast lost control', 'Off the road jaw was broke', 'Member we all was broke', 'Member Im coming back', 'Ill be taking all the stacks', 'Soon as they like you make em unlike you', 'Cause kissin people ass is so unlike you', 'The only rapper compared to Michael', 'So heres a few hatinass niggas to fight you', 'And heres a few snakeass niggas to bite you', 'And I dont even wanna hear bout what niggas might do', 'Old niggas mentally still in high school', 'Since the tight jeans they aint never liked you', 'Pinkass polos with a fuckin backpack', 'But everybody know you brought real rap back', 'Nobody had swag man we the Rat Pack', 'Virgil Pyrex Don C snapback', 'Ibn diamond Chitown shinin', 'Monop in this bitch again changed the climate', 'Hop in this bitch again same thing Im in', 'Until the day I get struck by lightning', 'I just talked to Jesus', 'He said What up Yeezus', 'I said Shit Im chillin', 'Tryna stack these millions', 'I know he the most high', 'But I am a close high', 'Mi casa su casa', 'Thats our cosa nostra', 'I am a god', 'I am a god', 'I am a god', 'For all my Southside niggas that know me best', 'I feel like me and Taylor might still have sex', 'Why I made that bitch famous God damn', 'I made that bitch famous', 'For all the girls that got dick from Kanye West', 'If you see em in the streets give em Kanyes best', 'Why They mad they aint famous God damn', 'They mad theyre still nameless Talk that talk man', 'Her man in the store tryna try his best', 'But he just cant seem to get Kanye fresh', 'But we still hood famous God damn', 'Yeah we still hood famous', 'I be Puerto Rican day parade floatin', 'That Benz Marina Del Rey coastin', 'She in school to be a real estate agent', 'Last month I helped her with the car payment', 'Young and we alive whoo', 'We never gonna die whoo', 'I just copped a jet to fly over personal debt', 'Put one up in the sky', 'The sun is in my eyes whoo', 'Woke up and felt the vibe whoo', 'No matter how hard they try whoo', 'We never gonna die', 'Hey baby you forgot your Ray Bans', 'And my sheets still orange from your spray tan', 'It was more than soft porn for the Kman', 'She remember my Sprinter said I was in the grape van', 'Uhm well cutie I like your bougie booty', 'Come Erykah Badu me well lets make a movie', 'Hell you know my repertoire is like a wrestler', 'I show you the ropes connect the dots', 'A country girl that love Hollywood', 'Mama used to cook red beans and rice', 'Now its Dennys in the morning spoil your appetite', 'Liquor pouring and niggas swarming your section with erection', 'Smoke in every direction middle finger pedestrians', 'RB singers and lesbians rappers and managers', 'Music and iPhone cameras', 'This shit unanimous for you its damaging for you I think', 'That pussy should only be holding exclusive rights to me I mean', 'He flew you in this motherfucker on first class', 'Even went out his way so you could check in an extra bag', 'Now you wanna divide the yam like it equate the math', 'That shit dont add up youre making him mad as fuck']\n"
     ]
    }
   ],
   "source": [
    "import os, re\n",
    "import numpy as np\n",
    "import tensorflow as tf\n",
    "# path = '/aiffel/data/lyrics/'\n",
    "# file_list = os.listdir(path)\n",
    "# file_list_txt = [file for file in file_list if file.endswith('.txt')]\n",
    "\n",
    "file_path = os.getenv(\"HOME\")+'/aiffel/lyricist/data/lyrics/Kanye_West.txt'\n",
    "with open(file_path, 'r') as f:\n",
    "    raw_corpus = f.read().splitlines()\n",
    "    \n",
    "print(raw_corpus[:500])"
   ]
  },
  {
   "cell_type": "code",
   "execution_count": 11,
   "id": "electronic-thread",
   "metadata": {},
   "outputs": [
    {
     "name": "stdout",
     "output_type": "stream",
     "text": [
      "﻿Eighteen years eighteen years\n",
      "She got one of your kids got you for eighteen years\n",
      "I know somebody paying child support for one of his kids\n",
      "His baby mama car and crib is bigger than his\n",
      "You will see him on TV any given Sunday\n",
      "Win the Super Bowl and drive off in a Hyundai\n",
      "She was supposed to buy your shorty Tyco with your money\n",
      "She went to the doctor got lipo with your money\n",
      "She walking around looking like Michael with your money\n",
      "Shouldve got that insured Geico for your money\n",
      "If you aint no punk\n",
      "Holla We want prenup We want prenup Yeah\n",
      "Its something that you need to have\n",
      "Cause when she leave your ass she gon leave with half\n",
      "Eighteen years eighteen years\n",
      "And on the the birthday he found out it wasnt his\n",
      "Now I aint saying you a gold digger you got needs\n",
      "You dont want a dude to smoke but he cant buy weed\n",
      "You go out to eat and he cant pay yall cant leave\n",
      "Theres dishes in the back he gotta roll up your sleeves\n"
     ]
    }
   ],
   "source": [
    "for idx, sentence in enumerate(raw_corpus):\n",
    "    if len(sentence) == 0: # sentence문장이 공백일때 제외\n",
    "        continue\n",
    "    if sentence[-1]==\":\": # sentence 문장의 맨끝이 \":\"일때 제외\n",
    "        continue\n",
    "        \n",
    "    if idx>19: # 우선 문장 10개만 확인\n",
    "        break\n",
    "        \n",
    "    print(sentence)"
   ]
  },
  {
   "cell_type": "code",
   "execution_count": 12,
   "id": "homeless-proxy",
   "metadata": {},
   "outputs": [],
   "source": [
    "def preprocess_sentence(sentence):\n",
    "    sentence = sentence.lower().strip() # 1\n",
    "    sentence = re.sub(r\"([?.!,¿])\", r\" \\1 \", sentence) # 2\n",
    "    sentence = re.sub(r'[\" \"]+', \" \", sentence) # 3\n",
    "    sentence = re.sub(r\"[^a-zA-Z?.!,¿]+\", \" \", sentence) # 4\n",
    "    sentence = sentence.strip() # 5\n",
    "    sentence = '<start> ' + sentence + ' <end>' # 6\n",
    "    return sentence"
   ]
  },
  {
   "cell_type": "code",
   "execution_count": 14,
   "id": "combined-meter",
   "metadata": {},
   "outputs": [
    {
     "data": {
      "text/plain": [
       "['<start> eighteen years eighteen years <end>',\n",
       " '<start> she got one of your kids got you for eighteen years <end>',\n",
       " '<start> i know somebody paying child support for one of his kids <end>',\n",
       " '<start> his baby mama car and crib is bigger than his <end>',\n",
       " '<start> you will see him on tv any given sunday <end>',\n",
       " '<start> win the super bowl and drive off in a hyundai <end>',\n",
       " '<start> she was supposed to buy your shorty tyco with your money <end>',\n",
       " '<start> she went to the doctor got lipo with your money <end>',\n",
       " '<start> she walking around looking like michael with your money <end>',\n",
       " '<start> shouldve got that insured geico for your money <end>',\n",
       " '<start> if you aint no punk <end>',\n",
       " '<start> holla we want prenup we want prenup yeah <end>',\n",
       " '<start> its something that you need to have <end>',\n",
       " '<start> cause when she leave your ass she gon leave with half <end>',\n",
       " '<start> eighteen years eighteen years <end>',\n",
       " '<start> and on the the birthday he found out it wasnt his <end>',\n",
       " '<start> now i aint saying you a gold digger you got needs <end>',\n",
       " '<start> you dont want a dude to smoke but he cant buy weed <end>',\n",
       " '<start> you go out to eat and he cant pay yall cant leave <end>',\n",
       " '<start> theres dishes in the back he gotta roll up your sleeves <end>']"
      ]
     },
     "execution_count": 14,
     "metadata": {},
     "output_type": "execute_result"
    }
   ],
   "source": [
    "corpus = [] # 정제된 문장 넣는 빈 리스트\n",
    "\n",
    "for sentence in raw_corpus:\n",
    "    # 원치않는 문장 건너뛰기\n",
    "    if len(sentence)==0: continue\n",
    "    if sentence[-1]==\":\": continue\n",
    "        \n",
    "    # 정제하고 corpus에 넣기\n",
    "    preprocessed_sentence = preprocess_sentence(sentence)\n",
    "    corpus.append(preprocessed_sentence)\n",
    "    \n",
    "corpus[:20]"
   ]
  },
  {
   "cell_type": "code",
   "execution_count": 15,
   "id": "listed-weight",
   "metadata": {},
   "outputs": [
    {
     "name": "stdout",
     "output_type": "stream",
     "text": [
      "[[  2 931 243 ...   0   0   0]\n",
      " [  2  25  26 ...   0   0   0]\n",
      " [  2   5  29 ...   0   0   0]\n",
      " ...\n",
      " [  2  24   6 ...   0   0   0]\n",
      " [  2  10 217 ...   0   0   0]\n",
      " [  2  28  12 ...   0   0   0]] <keras_preprocessing.text.Tokenizer object at 0x7f09a50d45d0>\n"
     ]
    }
   ],
   "source": [
    "# 토큰화\n",
    "def tokenize(corpus):\n",
    "    tokenizer = tf.keras.preprocessing.text.Tokenizer(\n",
    "        # 7000단어를 기억할 수 있는 tokenizer\n",
    "        # 이미 문장을 정제하였으니 filters가 필요없다.\n",
    "        # 7000 단어에 포함되지 못한 단어는 '<unk>'로 변환\n",
    "        num_words=7000,\n",
    "        filters='',\n",
    "        oov_token='<unk>'\n",
    "    )\n",
    "    # corpus를 이용하여 tokenizer 내부의 단어장 완성\n",
    "    tokenizer.fit_on_texts(corpus)\n",
    "    # tokenizer 이용하여 corpus를 Tensor로 변환\n",
    "    tensor = tokenizer.texts_to_sequences(corpus)\n",
    "    # 시퀀스 길이 일정하게\n",
    "    # 시퀀스가 짧으면 문장 뒤에 패딩을 붙여 길이를 맞춰준다.\n",
    "    # 문장 앞에 패딩을 붙여 길이를 맞추려면 padding='pre'사용\n",
    "    tensor = tf.keras.preprocessing.sequence.pad_sequences(tensor, padding='post')\n",
    "    \n",
    "    \n",
    "    print(tensor, tokenizer)\n",
    "    return tensor, tokenizer\n",
    "\n",
    "tensor, tokenizer = tokenize(corpus)"
   ]
  },
  {
   "cell_type": "code",
   "execution_count": 17,
   "id": "romantic-burns",
   "metadata": {},
   "outputs": [
    {
     "name": "stdout",
     "output_type": "stream",
     "text": [
      "[[   2  931  243  931  243    3    0    0    0    0    0    0    0    0\n",
      "     0    0    0    0    0    0]\n",
      " [   2   25   26   79   21   20  177   26    6   35  931  243    3    0\n",
      "     0    0    0    0    0    0]\n",
      " [   2    5   29  244 1749  413 1101   35   79   21  100  177    3    0\n",
      "     0    0    0    0    0    0]]\n"
     ]
    }
   ],
   "source": [
    "print(tensor[:3, :20])"
   ]
  },
  {
   "cell_type": "code",
   "execution_count": 18,
   "id": "looking-camel",
   "metadata": {},
   "outputs": [
    {
     "name": "stdout",
     "output_type": "stream",
     "text": [
      "[  2 931 243 931 243   3   0   0   0   0   0   0   0   0   0   0   0   0\n",
      "   0   0]\n",
      "[931 243 931 243   3   0   0   0   0   0   0   0   0   0   0   0   0   0\n",
      "   0   0]\n"
     ]
    }
   ],
   "source": [
    "# tensor에서 마지막 토큰을 잘라내서 소스문장 생성\n",
    "# 마지막 토큰은 <end>가 아니고 <pad>일 가능성높음\n",
    "src_input = tensor[:,:-1]\n",
    "# tensor에서 <start>를 잘라내서 타겟문장 생성\n",
    "tgt_input = tensor[:,1:]\n",
    "\n",
    "print(src_input[0])\n",
    "print(tgt_input[0])"
   ]
  },
  {
   "cell_type": "code",
   "execution_count": 19,
   "id": "stone-capture",
   "metadata": {},
   "outputs": [
    {
     "data": {
      "text/plain": [
       "<BatchDataset shapes: ((256, 20), (256, 20)), types: (tf.int32, tf.int32)>"
      ]
     },
     "execution_count": 19,
     "metadata": {},
     "output_type": "execute_result"
    }
   ],
   "source": [
    "BUFFER_SIZE = len(src_input)\n",
    "BATCH_SIZE = 256\n",
    "steps_per_epoch = len(src_input)//BATCH_SIZE\n",
    "\n",
    "# tokenizer가 구축한 단어사전 내 7000개와, 여기 포함되지 않은 0:<pad>를 포함하여 7001개\n",
    "VOCAB_SIZE = tokenizer.num_words+1\n",
    "\n",
    "dataset=tf.data.Dataset.from_tensor_slices((src_input, tgt_input)) # tensor --> tf.data.Dataset으로 변환\n",
    "dataset=dataset.shuffle(BUFFER_SIZE) # 완벽한 셔플링을 위해서는 데이터셋의 전체 크기보다 크거나 같은 Buffersize필요\n",
    "dataset=dataset.batch(BATCH_SIZE,drop_remainder=True) # 256개씩 묶고 나머지 제거\n",
    "dataset"
   ]
  },
  {
   "cell_type": "code",
   "execution_count": 20,
   "id": "japanese-audit",
   "metadata": {},
   "outputs": [],
   "source": [
    "class TextGenerator(tf.keras.Model):\n",
    "    def __init__(self,vocab_size, embedding_size,hidden_size):\n",
    "        super().__init__()\n",
    "        # embedding Layer\n",
    "        self.embedding = tf.keras.layers.Embedding(vocab_size, embedding_size)# 인덱스 값을 해당 인덱스 번째의 워드벡터로 바꿔준다. embedding_size : 단어가 추상적으로 표현되는 크기\n",
    "        # 2개의 LSTM Layer\n",
    "        self.rnn_1 = tf.keras.layers.LSTM(hidden_size, return_sequences=True) # return_sequences : many to many\n",
    "        self.rnn_2 = tf.keras.layers.LSTM(hidden_size, return_sequences=True) \n",
    "        # 1개의 Dense Layer\n",
    "        self.linear = tf.keras.layers.Dense(vocab_size)\n",
    "        \n",
    "    def call(self, x):\n",
    "        out = self.embedding(x)\n",
    "        out = self.rnn_1(out)\n",
    "        out = self.rnn_2(out)\n",
    "        out = self.linear(out)\n",
    "        \n",
    "        return out\n",
    "    \n",
    "embedding_size=256\n",
    "hidden_size=1024\n",
    "model = TextGenerator(tokenizer.num_words+1, embedding_size, hidden_size)"
   ]
  },
  {
   "cell_type": "code",
   "execution_count": 21,
   "id": "funny-building",
   "metadata": {},
   "outputs": [
    {
     "data": {
      "text/plain": [
       "<tf.Tensor: shape=(256, 20, 7001), dtype=float32, numpy=\n",
       "array([[[-1.67167760e-04, -1.38021815e-05,  3.20352236e-04, ...,\n",
       "          7.84341901e-05, -4.04167513e-04, -5.66555063e-05],\n",
       "        [-1.19415607e-04, -1.62487180e-04,  7.36956601e-04, ...,\n",
       "          6.40187587e-04, -5.34172053e-04,  3.05261965e-05],\n",
       "        [-4.75398672e-04, -2.02538693e-04,  1.14611280e-03, ...,\n",
       "          8.02769966e-04, -4.64282930e-04, -2.05434244e-05],\n",
       "        ...,\n",
       "        [-4.12330191e-05,  2.20114216e-05, -9.62804130e-04, ...,\n",
       "          7.08130479e-04, -3.28045990e-03,  1.06275373e-03],\n",
       "        [-1.38052143e-04,  7.34544446e-05, -1.02782028e-03, ...,\n",
       "          6.20121893e-04, -3.38425976e-03,  9.61546262e-04],\n",
       "        [-2.38316396e-04,  1.21572812e-04, -1.08322571e-03, ...,\n",
       "          5.31307189e-04, -3.46683944e-03,  8.62374087e-04]],\n",
       "\n",
       "       [[-1.67167760e-04, -1.38021815e-05,  3.20352236e-04, ...,\n",
       "          7.84341901e-05, -4.04167513e-04, -5.66555063e-05],\n",
       "        [-3.21891566e-04,  1.27901592e-06,  8.85692134e-04, ...,\n",
       "          3.76004136e-05, -5.09218371e-04, -9.03174368e-05],\n",
       "        [-3.69515677e-04,  3.92130933e-05,  1.07125647e-03, ...,\n",
       "          2.34122679e-04, -7.04205770e-04, -6.28139096e-05],\n",
       "        ...,\n",
       "        [-5.50033874e-05,  1.06357643e-03, -6.99209515e-04, ...,\n",
       "          5.27472876e-04, -3.50301643e-03,  1.33072271e-03],\n",
       "        [-9.85612060e-05,  1.00086851e-03, -8.09299992e-04, ...,\n",
       "          5.16530708e-04, -3.65672214e-03,  1.24500785e-03],\n",
       "        [-1.52396227e-04,  9.48745059e-04, -9.01701162e-04, ...,\n",
       "          4.83654090e-04, -3.76826013e-03,  1.14959048e-03]],\n",
       "\n",
       "       [[-1.67167760e-04, -1.38021815e-05,  3.20352236e-04, ...,\n",
       "          7.84341901e-05, -4.04167513e-04, -5.66555063e-05],\n",
       "        [-1.77637252e-04, -1.18714954e-04,  5.50075958e-04, ...,\n",
       "          2.71945348e-04, -7.87786848e-04,  1.13657530e-04],\n",
       "        [-1.39388227e-04, -9.97359457e-05,  6.29735761e-04, ...,\n",
       "          3.70571011e-04, -7.74774235e-04,  1.62269193e-04],\n",
       "        ...,\n",
       "        [-2.57821102e-05,  3.58908088e-04, -1.09645573e-03, ...,\n",
       "          9.13915806e-04, -3.20578227e-03,  7.37082679e-04],\n",
       "        [-1.59362171e-04,  3.79418256e-04, -1.14926044e-03, ...,\n",
       "          7.97185348e-04, -3.30962893e-03,  6.66634412e-04],\n",
       "        [-2.87836592e-04,  3.96340067e-04, -1.19514868e-03, ...,\n",
       "          6.84258877e-04, -3.39392270e-03,  6.01571519e-04]],\n",
       "\n",
       "       ...,\n",
       "\n",
       "       [[-1.67167760e-04, -1.38021815e-05,  3.20352236e-04, ...,\n",
       "          7.84341901e-05, -4.04167513e-04, -5.66555063e-05],\n",
       "        [-7.29387248e-05, -3.65327833e-05,  9.19866608e-04, ...,\n",
       "          2.23696421e-04, -2.28667210e-04,  4.65352728e-04],\n",
       "        [-9.17902653e-05, -4.81383322e-04,  9.99593874e-04, ...,\n",
       "         -1.01352001e-04, -3.83392908e-04,  1.02906919e-03],\n",
       "        ...,\n",
       "        [-2.82873283e-04,  2.65653245e-04, -9.13864700e-04, ...,\n",
       "          3.44332657e-04, -2.73547415e-03,  1.47454231e-03],\n",
       "        [-3.67862434e-04,  3.09300231e-04, -9.86243249e-04, ...,\n",
       "          3.30335199e-04, -2.92527955e-03,  1.33420399e-03],\n",
       "        [-4.51765402e-04,  3.44189204e-04, -1.05149637e-03, ...,\n",
       "          3.06308211e-04, -3.08144582e-03,  1.20140542e-03]],\n",
       "\n",
       "       [[-1.67167760e-04, -1.38021815e-05,  3.20352236e-04, ...,\n",
       "          7.84341901e-05, -4.04167513e-04, -5.66555063e-05],\n",
       "        [-3.52135365e-04, -1.17250049e-04,  4.74854023e-04, ...,\n",
       "          1.13465774e-06, -4.34772985e-04,  3.68270965e-04],\n",
       "        [-5.05794655e-04, -1.65345817e-04,  6.23809756e-04, ...,\n",
       "          1.26497675e-04, -1.80245450e-04,  9.64197796e-04],\n",
       "        ...,\n",
       "        [-3.17501486e-04,  3.09641437e-05, -9.55463038e-04, ...,\n",
       "          3.83013743e-04, -2.66815675e-03,  1.04845979e-03],\n",
       "        [-3.87117296e-04,  1.13240385e-04, -1.02158310e-03, ...,\n",
       "          3.43241787e-04, -2.84796604e-03,  9.81888617e-04],\n",
       "        [-4.61474876e-04,  1.82665390e-04, -1.07997144e-03, ...,\n",
       "          2.93556746e-04, -2.99587660e-03,  9.12163232e-04]],\n",
       "\n",
       "       [[-1.67167760e-04, -1.38021815e-05,  3.20352236e-04, ...,\n",
       "          7.84341901e-05, -4.04167513e-04, -5.66555063e-05],\n",
       "        [-2.26514123e-04,  2.94628098e-05,  4.09894419e-04, ...,\n",
       "          3.49185488e-04, -7.83730473e-04, -4.32308261e-05],\n",
       "        [-2.85018788e-04, -1.00856108e-04,  6.38568657e-04, ...,\n",
       "          5.56260871e-04, -1.12845737e-03,  1.39243843e-06],\n",
       "        ...,\n",
       "        [-5.18069719e-04,  4.67354141e-04, -1.32910279e-03, ...,\n",
       "          5.78905398e-04, -3.27677676e-03,  1.03281427e-03],\n",
       "        [-5.64052432e-04,  4.80669696e-04, -1.34515821e-03, ...,\n",
       "          5.27083525e-04, -3.38065857e-03,  9.43679130e-04],\n",
       "        [-6.17579150e-04,  4.87816636e-04, -1.35780347e-03, ...,\n",
       "          4.69493621e-04, -3.46377143e-03,  8.58407177e-04]]],\n",
       "      dtype=float32)>"
      ]
     },
     "execution_count": 21,
     "metadata": {},
     "output_type": "execute_result"
    }
   ],
   "source": [
    "for src_sample, tgt_sample in dataset.take(1):break # 1개의 배치를 가져온다. 256개의 문장데이터\n",
    "    \n",
    "model(src_sample)"
   ]
  },
  {
   "cell_type": "code",
   "execution_count": 22,
   "id": "passing-people",
   "metadata": {},
   "outputs": [
    {
     "name": "stdout",
     "output_type": "stream",
     "text": [
      "Model: \"text_generator\"\n",
      "_________________________________________________________________\n",
      "Layer (type)                 Output Shape              Param #   \n",
      "=================================================================\n",
      "embedding (Embedding)        multiple                  1792256   \n",
      "_________________________________________________________________\n",
      "lstm (LSTM)                  multiple                  5246976   \n",
      "_________________________________________________________________\n",
      "lstm_1 (LSTM)                multiple                  8392704   \n",
      "_________________________________________________________________\n",
      "dense (Dense)                multiple                  7176025   \n",
      "=================================================================\n",
      "Total params: 22,607,961\n",
      "Trainable params: 22,607,961\n",
      "Non-trainable params: 0\n",
      "_________________________________________________________________\n"
     ]
    }
   ],
   "source": [
    "model.summary()"
   ]
  },
  {
   "cell_type": "code",
   "execution_count": 27,
   "id": "invalid-terminology",
   "metadata": {},
   "outputs": [
    {
     "name": "stdout",
     "output_type": "stream",
     "text": [
      "Epoch 1/30\n",
      "24/24 [==============================] - 11s 365ms/step - loss: 2.8181\n",
      "Epoch 2/30\n",
      "24/24 [==============================] - 9s 366ms/step - loss: 2.6428\n",
      "Epoch 3/30\n",
      "24/24 [==============================] - 9s 368ms/step - loss: 2.5909\n",
      "Epoch 4/30\n",
      "24/24 [==============================] - 9s 369ms/step - loss: 2.5687\n",
      "Epoch 5/30\n",
      "24/24 [==============================] - 9s 370ms/step - loss: 2.5346\n",
      "Epoch 6/30\n",
      "24/24 [==============================] - 9s 370ms/step - loss: 2.5119\n",
      "Epoch 7/30\n",
      "24/24 [==============================] - 9s 371ms/step - loss: 2.4657\n",
      "Epoch 8/30\n",
      "24/24 [==============================] - 9s 372ms/step - loss: 2.4203\n",
      "Epoch 9/30\n",
      "24/24 [==============================] - 9s 372ms/step - loss: 2.3832\n",
      "Epoch 10/30\n",
      "24/24 [==============================] - 9s 374ms/step - loss: 2.3291\n",
      "Epoch 11/30\n",
      "24/24 [==============================] - 9s 373ms/step - loss: 2.2765\n",
      "Epoch 12/30\n",
      "24/24 [==============================] - 9s 373ms/step - loss: 2.2346\n",
      "Epoch 13/30\n",
      "24/24 [==============================] - 9s 373ms/step - loss: 2.1723\n",
      "Epoch 14/30\n",
      "24/24 [==============================] - 9s 375ms/step - loss: 2.1255\n",
      "Epoch 15/30\n",
      "24/24 [==============================] - 9s 376ms/step - loss: 2.0613\n",
      "Epoch 16/30\n",
      "24/24 [==============================] - 9s 375ms/step - loss: 2.0108\n",
      "Epoch 17/30\n",
      "24/24 [==============================] - 9s 374ms/step - loss: 1.9600\n",
      "Epoch 18/30\n",
      "24/24 [==============================] - 9s 374ms/step - loss: 1.8863\n",
      "Epoch 19/30\n",
      "24/24 [==============================] - 9s 374ms/step - loss: 1.8403\n",
      "Epoch 20/30\n",
      "24/24 [==============================] - 9s 376ms/step - loss: 1.7800\n",
      "Epoch 21/30\n",
      "24/24 [==============================] - 9s 377ms/step - loss: 1.7405\n",
      "Epoch 22/30\n",
      "24/24 [==============================] - 9s 375ms/step - loss: 1.6925\n",
      "Epoch 23/30\n",
      "24/24 [==============================] - 9s 375ms/step - loss: 1.6328\n",
      "Epoch 24/30\n",
      "24/24 [==============================] - 9s 375ms/step - loss: 1.6031\n",
      "Epoch 25/30\n",
      "24/24 [==============================] - 9s 375ms/step - loss: 1.5411\n",
      "Epoch 26/30\n",
      "24/24 [==============================] - 9s 374ms/step - loss: 1.4977\n",
      "Epoch 27/30\n",
      "24/24 [==============================] - 9s 375ms/step - loss: 1.4546\n",
      "Epoch 28/30\n",
      "24/24 [==============================] - 9s 375ms/step - loss: 1.4031\n",
      "Epoch 29/30\n",
      "24/24 [==============================] - 9s 374ms/step - loss: 1.3733\n",
      "Epoch 30/30\n",
      "24/24 [==============================] - 9s 375ms/step - loss: 1.3261\n"
     ]
    },
    {
     "data": {
      "text/plain": [
       "<tensorflow.python.keras.callbacks.History at 0x7f093c744810>"
      ]
     },
     "execution_count": 27,
     "metadata": {},
     "output_type": "execute_result"
    }
   ],
   "source": [
    "optimizer = tf.keras.optimizers.Adam() \n",
    "loss = tf.keras.losses.SparseCategoricalCrossentropy(\n",
    "    from_logits=True,\n",
    "    reduction='none'\n",
    ")\n",
    "\n",
    "model.compile(loss=loss, optimizer=optimizer)\n",
    "model.fit(dataset, epochs=30)"
   ]
  },
  {
   "cell_type": "code",
   "execution_count": 28,
   "id": "animal-marking",
   "metadata": {},
   "outputs": [],
   "source": [
    "def generate_text(model, tokenizer, init_sentence=\"<start>\", max_len=20):\n",
    "    # 테스트를 위해서 입력받은 init_sentence도 텐서로 변환합니다\n",
    "    test_input = tokenizer.texts_to_sequences([init_sentence])\n",
    "    test_tensor = tf.convert_to_tensor(test_input, dtype=tf.int64)\n",
    "    end_token = tokenizer.word_index[\"<end>\"]\n",
    "\n",
    "    # 단어 하나씩 예측해 문장을 만듭니다\n",
    "    #    1. 입력받은 문장의 텐서를 입력합니다\n",
    "    #    2. 예측된 값 중 가장 높은 확률인 word index를 뽑아냅니다\n",
    "    #    3. 2에서 예측된 word index를 문장 뒤에 붙입니다\n",
    "    #    4. 모델이 <end>를 예측했거나, max_len에 도달했다면 문장 생성을 마칩니다\n",
    "    while True:\n",
    "        # 1\n",
    "        predict = model(test_tensor) \n",
    "        # 2\n",
    "        predict_word = tf.argmax(tf.nn.softmax(predict, axis=-1), axis=-1)[:, -1] \n",
    "        # 3 \n",
    "        test_tensor = tf.concat([test_tensor, tf.expand_dims(predict_word, axis=0)], axis=-1)\n",
    "        # 4\n",
    "        if predict_word.numpy()[0] == end_token: break\n",
    "        if test_tensor.shape[1] >= max_len: break\n",
    "\n",
    "    generated = \"\"\n",
    "    # tokenizer를 이용해 word index를 단어로 하나씩 변환합니다 \n",
    "    for word_index in test_tensor[0].numpy():\n",
    "        generated += tokenizer.index_word[word_index] + \" \"\n",
    "\n",
    "    return generated"
   ]
  },
  {
   "cell_type": "code",
   "execution_count": 29,
   "id": "satisfactory-essex",
   "metadata": {},
   "outputs": [
    {
     "data": {
      "text/plain": [
       "'<start> he said i know what you got a vacuum mouth <end> '"
      ]
     },
     "execution_count": 29,
     "metadata": {},
     "output_type": "execute_result"
    }
   ],
   "source": [
    "generate_text(model, tokenizer, init_sentence=\"<start> he\") ## 4-6"
   ]
  },
  {
   "cell_type": "code",
   "execution_count": null,
   "id": "responsible-upset",
   "metadata": {},
   "outputs": [],
   "source": []
  }
 ],
 "metadata": {
  "kernelspec": {
   "display_name": "Python 3",
   "language": "python",
   "name": "python3"
  },
  "language_info": {
   "codemirror_mode": {
    "name": "ipython",
    "version": 3
   },
   "file_extension": ".py",
   "mimetype": "text/x-python",
   "name": "python",
   "nbconvert_exporter": "python",
   "pygments_lexer": "ipython3",
   "version": "3.7.9"
  }
 },
 "nbformat": 4,
 "nbformat_minor": 5
}
