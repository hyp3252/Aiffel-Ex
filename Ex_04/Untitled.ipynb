{
 "cells": [
  {
   "cell_type": "markdown",
   "id": "retired-cooling",
   "metadata": {},
   "source": [
    "# 트럼프 말투로 글 작성"
   ]
  },
  {
   "cell_type": "code",
   "execution_count": 1,
   "id": "exceptional-upper",
   "metadata": {},
   "outputs": [
    {
     "name": "stdout",
     "output_type": "stream",
     "text": [
      "['First Citizen:', 'Before we proceed any further, hear me speak.', '', 'All:', 'Speak, speak.', '', 'First Citizen:', 'You are all resolved rather to die than to famish?', '']\n"
     ]
    }
   ],
   "source": [
    "import os, re\n",
    "import numpy as np\n",
    "import tensorflow as tf\n",
    "# path = '/aiffel/data/lyrics/'\n",
    "# file_list = os.listdir(path)\n",
    "# file_list_txt = [file for file in file_list if file.endswith('.txt')]\n",
    "\n",
    "file_path = os.getenv(\"HOME\")+'/aiffel/lyricist/data/shakespeare.txt'\n",
    "with open(file_path, 'r') as f:\n",
    "    raw_corpus = f.read().splitlines()\n",
    "    \n",
    "print(raw_corpus[:9])"
   ]
  },
  {
   "cell_type": "code",
   "execution_count": 2,
   "id": "retained-contrary",
   "metadata": {},
   "outputs": [
    {
     "name": "stdout",
     "output_type": "stream",
     "text": [
      "Before we proceed any further, hear me speak.\n",
      "Speak, speak.\n",
      "You are all resolved rather to die than to famish?\n",
      "Resolved. resolved.\n"
     ]
    }
   ],
   "source": [
    "for idx, sentence in enumerate(raw_corpus):\n",
    "    if len(sentence) == 0: # sentence문장이 공백일때 제외\n",
    "        continue\n",
    "    if sentence[-1]==\":\": # sentence 문장의 맨끝이 \":\"일때 제외\n",
    "        continue\n",
    "        \n",
    "    if idx>10: # 우선 문장 10개만 확인\n",
    "        break\n",
    "        \n",
    "    print(sentence)"
   ]
  },
  {
   "cell_type": "code",
   "execution_count": 3,
   "id": "anticipated-adoption",
   "metadata": {},
   "outputs": [],
   "source": [
    "def preprocess_sentence(sentence):\n",
    "    sentence = sentence.lower().strip() # 1\n",
    "    sentence = re.sub(r\"([?.!,¿])\", r\" \\1 \", sentence) # 2\n",
    "    sentence = re.sub(r'[\" \"]+', \" \", sentence) # 3\n",
    "    sentence = re.sub(r\"[^a-zA-Z?.!,¿]+\", \" \", sentence) # 4\n",
    "    sentence = sentence.strip() # 5\n",
    "    sentence = '<start> ' + sentence + ' <end>' # 6\n",
    "    return sentence"
   ]
  },
  {
   "cell_type": "code",
   "execution_count": 4,
   "id": "attached-sigma",
   "metadata": {},
   "outputs": [
    {
     "data": {
      "text/plain": [
       "['<start> before we proceed any further , hear me speak . <end>']"
      ]
     },
     "execution_count": 4,
     "metadata": {},
     "output_type": "execute_result"
    }
   ],
   "source": [
    "corpus = [] # 정제된 문장 넣는 빈 리스트\n",
    "\n",
    "for sentence in raw_corpus:\n",
    "    # 원치않는 문장 건너뛰기\n",
    "    if len(sentence)==0: continue # 공백이 있으면 제거\n",
    "    if sentence[-1]==\":\": continue # 각 문장 끝에 ':'이 있으면 제거\n",
    "        \n",
    "    # 정제하고 corpus에 넣기\n",
    "    preprocessed_sentence = preprocess_sentence(sentence)\n",
    "    corpus.append(preprocessed_sentence)\n",
    "    \n",
    "corpus[:1]"
   ]
  },
  {
   "cell_type": "code",
   "execution_count": 5,
   "id": "wired-colleague",
   "metadata": {},
   "outputs": [
    {
     "name": "stdout",
     "output_type": "stream",
     "text": [
      "[[   2  143   40 ...    0    0    0]\n",
      " [   2  110    4 ...    0    0    0]\n",
      " [   2   11   50 ...    0    0    0]\n",
      " ...\n",
      " [   2  149 4553 ...    0    0    0]\n",
      " [   2   34   71 ...    0    0    0]\n",
      " [   2  945   34 ...    0    0    0]] <keras_preprocessing.text.Tokenizer object at 0x7ff20cd68390>\n"
     ]
    }
   ],
   "source": [
    "# 토큰화\n",
    "def tokenize(corpus):\n",
    "    tokenizer = tf.keras.preprocessing.text.Tokenizer(\n",
    "        # 7000단어를 기억할 수 있는 tokenizer\n",
    "        # 이미 문장을 정제하였으니 filters가 필요없다.\n",
    "        # 7000 단어에 포함되지 못한 단어는 '<unk>'로 변환\n",
    "        num_words=7000,\n",
    "        filters='',\n",
    "        oov_token='<unk>'\n",
    "    )\n",
    "    # corpus를 이용하여 tokenizer 내부의 단어장 완성\n",
    "    tokenizer.fit_on_texts(corpus)\n",
    "    # tokenizer 이용하여 corpus를 Tensor로 변환\n",
    "    tensor = tokenizer.texts_to_sequences(corpus)\n",
    "    # 시퀀스 길이 일정하게\n",
    "    # 시퀀스가 짧으면 문장 뒤에 패딩을 붙여 길이를 맞춰준다.\n",
    "    # 문장 앞에 패딩을 붙여 길이를 맞추려면 padding='pre'사용\n",
    "    tensor = tf.keras.preprocessing.sequence.pad_sequences(tensor, padding='post')\n",
    "    \n",
    "    \n",
    "    print(tensor, tokenizer)\n",
    "    return tensor, tokenizer\n",
    "\n",
    "tensor, tokenizer = tokenize(corpus)"
   ]
  },
  {
   "cell_type": "code",
   "execution_count": 7,
   "id": "assisted-period",
   "metadata": {},
   "outputs": [
    {
     "name": "stdout",
     "output_type": "stream",
     "text": [
      "[[   2  143   40  933  140  591    4  124   24  110    5    3    0    0\n",
      "     0    0    0    0    0    0]\n",
      " [   2  110    4  110    5    3    0    0    0    0    0    0    0    0\n",
      "     0    0    0    0    0    0]\n",
      " [   2   11   50   43 1201  316    9  201   74    9 3034   15    3    0\n",
      "     0    0    0    0    0    0]]\n"
     ]
    }
   ],
   "source": [
    "print(tensor[:3, :20])"
   ]
  },
  {
   "cell_type": "code",
   "execution_count": 8,
   "id": "continued-preparation",
   "metadata": {},
   "outputs": [
    {
     "name": "stdout",
     "output_type": "stream",
     "text": [
      "1 : <unk>\n",
      "2 : <start>\n",
      "3 : <end>\n",
      "4 : ,\n",
      "5 : .\n",
      "6 : the\n",
      "7 : and\n",
      "8 : i\n",
      "9 : to\n",
      "10 : of\n",
      "11 : you\n",
      "12 : my\n",
      "13 : a\n",
      "14 : that\n",
      "15 : ?\n",
      "16 : in\n",
      "17 : !\n",
      "18 : is\n",
      "19 : not\n",
      "20 : for\n",
      "21 : s\n",
      "22 : with\n",
      "23 : it\n",
      "24 : me\n",
      "25 : your\n",
      "26 : be\n",
      "27 : he\n",
      "28 : his\n",
      "29 : but\n",
      "30 : this\n",
      "11179\n"
     ]
    }
   ],
   "source": [
    "for idx in tokenizer.index_word:\n",
    "    print(idx,\":\",tokenizer.index_word[idx]) # tokenizer변수에 저장되어 있는 단어 사전의 인덱스\n",
    "    \n",
    "    if idx >=30:break\n",
    "        \n",
    "print(len(tokenizer.index_word))"
   ]
  },
  {
   "cell_type": "code",
   "execution_count": 18,
   "id": "comic-topic",
   "metadata": {},
   "outputs": [
    {
     "name": "stdout",
     "output_type": "stream",
     "text": [
      "[  2 931 243 931 243   3   0   0   0   0   0   0   0   0   0   0   0   0\n",
      "   0   0]\n",
      "[931 243 931 243   3   0   0   0   0   0   0   0   0   0   0   0   0   0\n",
      "   0   0]\n"
     ]
    }
   ],
   "source": [
    "# tensor에서 마지막 토큰을 잘라내서 소스문장 생성\n",
    "# 마지막 토큰은 <end>가 아니고 <pad>일 가능성높음\n",
    "src_input = tensor[:,:-1]\n",
    "# tensor에서 <start>를 잘라내서 타겟문장 생성\n",
    "tgt_input = tensor[:,1:]\n",
    "\n",
    "print(src_input[0])\n",
    "print(tgt_input[0])"
   ]
  },
  {
   "cell_type": "code",
   "execution_count": 19,
   "id": "animated-affair",
   "metadata": {},
   "outputs": [
    {
     "data": {
      "text/plain": [
       "<BatchDataset shapes: ((256, 20), (256, 20)), types: (tf.int32, tf.int32)>"
      ]
     },
     "execution_count": 19,
     "metadata": {},
     "output_type": "execute_result"
    }
   ],
   "source": [
    "BUFFER_SIZE = len(src_input)\n",
    "BATCH_SIZE = 256\n",
    "steps_per_epoch = len(src_input)//BATCH_SIZE\n",
    "\n",
    "# tokenizer가 구축한 단어사전 내 7000개와, 여기 포함되지 않은 0:<pad>를 포함하여 7001개\n",
    "VOCAB_SIZE = tokenizer.num_words+1\n",
    "\n",
    "dataset=tf.data.Dataset.from_tensor_slices((src_input, tgt_input)) # tensor --> tf.data.Dataset으로 변환\n",
    "dataset=dataset.shuffle(BUFFER_SIZE) # 완벽한 셔플링을 위해서는 데이터셋의 전체 크기보다 크거나 같은 Buffersize필요\n",
    "dataset=dataset.batch(BATCH_SIZE,drop_remainder=True) # 256개씩 묶고 나머지 제거\n",
    "dataset"
   ]
  },
  {
   "cell_type": "code",
   "execution_count": 20,
   "id": "double-piano",
   "metadata": {},
   "outputs": [],
   "source": [
    "class TextGenerator(tf.keras.Model):\n",
    "    def __init__(self,vocab_size, embedding_size,hidden_size):\n",
    "        super().__init__()\n",
    "        # embedding Layer\n",
    "        self.embedding = tf.keras.layers.Embedding(vocab_size, embedding_size)# 인덱스 값을 해당 인덱스 번째의 워드벡터로 바꿔준다. embedding_size : 단어가 추상적으로 표현되는 크기\n",
    "        # 2개의 LSTM Layer\n",
    "        self.rnn_1 = tf.keras.layers.LSTM(hidden_size, return_sequences=True) # return_sequences : many to many\n",
    "        self.rnn_2 = tf.keras.layers.LSTM(hidden_size, return_sequences=True) \n",
    "        # 1개의 Dense Layer\n",
    "        self.linear = tf.keras.layers.Dense(vocab_size)\n",
    "        \n",
    "    def call(self, x):\n",
    "        out = self.embedding(x)\n",
    "        out = self.rnn_1(out)\n",
    "        out = self.rnn_2(out)\n",
    "        out = self.linear(out)\n",
    "        \n",
    "        return out\n",
    "    \n",
    "embedding_size=256\n",
    "hidden_size=1024\n",
    "model = TextGenerator(tokenizer.num_words+1, embedding_size, hidden_size)"
   ]
  },
  {
   "cell_type": "code",
   "execution_count": 21,
   "id": "industrial-classification",
   "metadata": {},
   "outputs": [
    {
     "data": {
      "text/plain": [
       "<tf.Tensor: shape=(256, 20, 7001), dtype=float32, numpy=\n",
       "array([[[-1.67167760e-04, -1.38021815e-05,  3.20352236e-04, ...,\n",
       "          7.84341901e-05, -4.04167513e-04, -5.66555063e-05],\n",
       "        [-1.19415607e-04, -1.62487180e-04,  7.36956601e-04, ...,\n",
       "          6.40187587e-04, -5.34172053e-04,  3.05261965e-05],\n",
       "        [-4.75398672e-04, -2.02538693e-04,  1.14611280e-03, ...,\n",
       "          8.02769966e-04, -4.64282930e-04, -2.05434244e-05],\n",
       "        ...,\n",
       "        [-4.12330191e-05,  2.20114216e-05, -9.62804130e-04, ...,\n",
       "          7.08130479e-04, -3.28045990e-03,  1.06275373e-03],\n",
       "        [-1.38052143e-04,  7.34544446e-05, -1.02782028e-03, ...,\n",
       "          6.20121893e-04, -3.38425976e-03,  9.61546262e-04],\n",
       "        [-2.38316396e-04,  1.21572812e-04, -1.08322571e-03, ...,\n",
       "          5.31307189e-04, -3.46683944e-03,  8.62374087e-04]],\n",
       "\n",
       "       [[-1.67167760e-04, -1.38021815e-05,  3.20352236e-04, ...,\n",
       "          7.84341901e-05, -4.04167513e-04, -5.66555063e-05],\n",
       "        [-3.21891566e-04,  1.27901592e-06,  8.85692134e-04, ...,\n",
       "          3.76004136e-05, -5.09218371e-04, -9.03174368e-05],\n",
       "        [-3.69515677e-04,  3.92130933e-05,  1.07125647e-03, ...,\n",
       "          2.34122679e-04, -7.04205770e-04, -6.28139096e-05],\n",
       "        ...,\n",
       "        [-5.50033874e-05,  1.06357643e-03, -6.99209515e-04, ...,\n",
       "          5.27472876e-04, -3.50301643e-03,  1.33072271e-03],\n",
       "        [-9.85612060e-05,  1.00086851e-03, -8.09299992e-04, ...,\n",
       "          5.16530708e-04, -3.65672214e-03,  1.24500785e-03],\n",
       "        [-1.52396227e-04,  9.48745059e-04, -9.01701162e-04, ...,\n",
       "          4.83654090e-04, -3.76826013e-03,  1.14959048e-03]],\n",
       "\n",
       "       [[-1.67167760e-04, -1.38021815e-05,  3.20352236e-04, ...,\n",
       "          7.84341901e-05, -4.04167513e-04, -5.66555063e-05],\n",
       "        [-1.77637252e-04, -1.18714954e-04,  5.50075958e-04, ...,\n",
       "          2.71945348e-04, -7.87786848e-04,  1.13657530e-04],\n",
       "        [-1.39388227e-04, -9.97359457e-05,  6.29735761e-04, ...,\n",
       "          3.70571011e-04, -7.74774235e-04,  1.62269193e-04],\n",
       "        ...,\n",
       "        [-2.57821102e-05,  3.58908088e-04, -1.09645573e-03, ...,\n",
       "          9.13915806e-04, -3.20578227e-03,  7.37082679e-04],\n",
       "        [-1.59362171e-04,  3.79418256e-04, -1.14926044e-03, ...,\n",
       "          7.97185348e-04, -3.30962893e-03,  6.66634412e-04],\n",
       "        [-2.87836592e-04,  3.96340067e-04, -1.19514868e-03, ...,\n",
       "          6.84258877e-04, -3.39392270e-03,  6.01571519e-04]],\n",
       "\n",
       "       ...,\n",
       "\n",
       "       [[-1.67167760e-04, -1.38021815e-05,  3.20352236e-04, ...,\n",
       "          7.84341901e-05, -4.04167513e-04, -5.66555063e-05],\n",
       "        [-7.29387248e-05, -3.65327833e-05,  9.19866608e-04, ...,\n",
       "          2.23696421e-04, -2.28667210e-04,  4.65352728e-04],\n",
       "        [-9.17902653e-05, -4.81383322e-04,  9.99593874e-04, ...,\n",
       "         -1.01352001e-04, -3.83392908e-04,  1.02906919e-03],\n",
       "        ...,\n",
       "        [-2.82873283e-04,  2.65653245e-04, -9.13864700e-04, ...,\n",
       "          3.44332657e-04, -2.73547415e-03,  1.47454231e-03],\n",
       "        [-3.67862434e-04,  3.09300231e-04, -9.86243249e-04, ...,\n",
       "          3.30335199e-04, -2.92527955e-03,  1.33420399e-03],\n",
       "        [-4.51765402e-04,  3.44189204e-04, -1.05149637e-03, ...,\n",
       "          3.06308211e-04, -3.08144582e-03,  1.20140542e-03]],\n",
       "\n",
       "       [[-1.67167760e-04, -1.38021815e-05,  3.20352236e-04, ...,\n",
       "          7.84341901e-05, -4.04167513e-04, -5.66555063e-05],\n",
       "        [-3.52135365e-04, -1.17250049e-04,  4.74854023e-04, ...,\n",
       "          1.13465774e-06, -4.34772985e-04,  3.68270965e-04],\n",
       "        [-5.05794655e-04, -1.65345817e-04,  6.23809756e-04, ...,\n",
       "          1.26497675e-04, -1.80245450e-04,  9.64197796e-04],\n",
       "        ...,\n",
       "        [-3.17501486e-04,  3.09641437e-05, -9.55463038e-04, ...,\n",
       "          3.83013743e-04, -2.66815675e-03,  1.04845979e-03],\n",
       "        [-3.87117296e-04,  1.13240385e-04, -1.02158310e-03, ...,\n",
       "          3.43241787e-04, -2.84796604e-03,  9.81888617e-04],\n",
       "        [-4.61474876e-04,  1.82665390e-04, -1.07997144e-03, ...,\n",
       "          2.93556746e-04, -2.99587660e-03,  9.12163232e-04]],\n",
       "\n",
       "       [[-1.67167760e-04, -1.38021815e-05,  3.20352236e-04, ...,\n",
       "          7.84341901e-05, -4.04167513e-04, -5.66555063e-05],\n",
       "        [-2.26514123e-04,  2.94628098e-05,  4.09894419e-04, ...,\n",
       "          3.49185488e-04, -7.83730473e-04, -4.32308261e-05],\n",
       "        [-2.85018788e-04, -1.00856108e-04,  6.38568657e-04, ...,\n",
       "          5.56260871e-04, -1.12845737e-03,  1.39243843e-06],\n",
       "        ...,\n",
       "        [-5.18069719e-04,  4.67354141e-04, -1.32910279e-03, ...,\n",
       "          5.78905398e-04, -3.27677676e-03,  1.03281427e-03],\n",
       "        [-5.64052432e-04,  4.80669696e-04, -1.34515821e-03, ...,\n",
       "          5.27083525e-04, -3.38065857e-03,  9.43679130e-04],\n",
       "        [-6.17579150e-04,  4.87816636e-04, -1.35780347e-03, ...,\n",
       "          4.69493621e-04, -3.46377143e-03,  8.58407177e-04]]],\n",
       "      dtype=float32)>"
      ]
     },
     "execution_count": 21,
     "metadata": {},
     "output_type": "execute_result"
    }
   ],
   "source": [
    "for src_sample, tgt_sample in dataset.take(1):break # 1개의 배치를 가져온다. 256개의 문장데이터\n",
    "    \n",
    "model(src_sample)"
   ]
  },
  {
   "cell_type": "code",
   "execution_count": 22,
   "id": "terminal-bachelor",
   "metadata": {},
   "outputs": [
    {
     "name": "stdout",
     "output_type": "stream",
     "text": [
      "Model: \"text_generator\"\n",
      "_________________________________________________________________\n",
      "Layer (type)                 Output Shape              Param #   \n",
      "=================================================================\n",
      "embedding (Embedding)        multiple                  1792256   \n",
      "_________________________________________________________________\n",
      "lstm (LSTM)                  multiple                  5246976   \n",
      "_________________________________________________________________\n",
      "lstm_1 (LSTM)                multiple                  8392704   \n",
      "_________________________________________________________________\n",
      "dense (Dense)                multiple                  7176025   \n",
      "=================================================================\n",
      "Total params: 22,607,961\n",
      "Trainable params: 22,607,961\n",
      "Non-trainable params: 0\n",
      "_________________________________________________________________\n"
     ]
    }
   ],
   "source": [
    "model.summary()"
   ]
  },
  {
   "cell_type": "code",
   "execution_count": 27,
   "id": "experimental-unemployment",
   "metadata": {},
   "outputs": [
    {
     "name": "stdout",
     "output_type": "stream",
     "text": [
      "Epoch 1/30\n",
      "24/24 [==============================] - 11s 365ms/step - loss: 2.8181\n",
      "Epoch 2/30\n",
      "24/24 [==============================] - 9s 366ms/step - loss: 2.6428\n",
      "Epoch 3/30\n",
      "24/24 [==============================] - 9s 368ms/step - loss: 2.5909\n",
      "Epoch 4/30\n",
      "24/24 [==============================] - 9s 369ms/step - loss: 2.5687\n",
      "Epoch 5/30\n",
      "24/24 [==============================] - 9s 370ms/step - loss: 2.5346\n",
      "Epoch 6/30\n",
      "24/24 [==============================] - 9s 370ms/step - loss: 2.5119\n",
      "Epoch 7/30\n",
      "24/24 [==============================] - 9s 371ms/step - loss: 2.4657\n",
      "Epoch 8/30\n",
      "24/24 [==============================] - 9s 372ms/step - loss: 2.4203\n",
      "Epoch 9/30\n",
      "24/24 [==============================] - 9s 372ms/step - loss: 2.3832\n",
      "Epoch 10/30\n",
      "24/24 [==============================] - 9s 374ms/step - loss: 2.3291\n",
      "Epoch 11/30\n",
      "24/24 [==============================] - 9s 373ms/step - loss: 2.2765\n",
      "Epoch 12/30\n",
      "24/24 [==============================] - 9s 373ms/step - loss: 2.2346\n",
      "Epoch 13/30\n",
      "24/24 [==============================] - 9s 373ms/step - loss: 2.1723\n",
      "Epoch 14/30\n",
      "24/24 [==============================] - 9s 375ms/step - loss: 2.1255\n",
      "Epoch 15/30\n",
      "24/24 [==============================] - 9s 376ms/step - loss: 2.0613\n",
      "Epoch 16/30\n",
      "24/24 [==============================] - 9s 375ms/step - loss: 2.0108\n",
      "Epoch 17/30\n",
      "24/24 [==============================] - 9s 374ms/step - loss: 1.9600\n",
      "Epoch 18/30\n",
      "24/24 [==============================] - 9s 374ms/step - loss: 1.8863\n",
      "Epoch 19/30\n",
      "24/24 [==============================] - 9s 374ms/step - loss: 1.8403\n",
      "Epoch 20/30\n",
      "24/24 [==============================] - 9s 376ms/step - loss: 1.7800\n",
      "Epoch 21/30\n",
      "24/24 [==============================] - 9s 377ms/step - loss: 1.7405\n",
      "Epoch 22/30\n",
      "24/24 [==============================] - 9s 375ms/step - loss: 1.6925\n",
      "Epoch 23/30\n",
      "24/24 [==============================] - 9s 375ms/step - loss: 1.6328\n",
      "Epoch 24/30\n",
      "24/24 [==============================] - 9s 375ms/step - loss: 1.6031\n",
      "Epoch 25/30\n",
      "24/24 [==============================] - 9s 375ms/step - loss: 1.5411\n",
      "Epoch 26/30\n",
      "24/24 [==============================] - 9s 374ms/step - loss: 1.4977\n",
      "Epoch 27/30\n",
      "24/24 [==============================] - 9s 375ms/step - loss: 1.4546\n",
      "Epoch 28/30\n",
      "24/24 [==============================] - 9s 375ms/step - loss: 1.4031\n",
      "Epoch 29/30\n",
      "24/24 [==============================] - 9s 374ms/step - loss: 1.3733\n",
      "Epoch 30/30\n",
      "24/24 [==============================] - 9s 375ms/step - loss: 1.3261\n"
     ]
    },
    {
     "data": {
      "text/plain": [
       "<tensorflow.python.keras.callbacks.History at 0x7f093c744810>"
      ]
     },
     "execution_count": 27,
     "metadata": {},
     "output_type": "execute_result"
    }
   ],
   "source": [
    "optimizer = tf.keras.optimizers.Adam() \n",
    "loss = tf.keras.losses.SparseCategoricalCrossentropy(\n",
    "    from_logits=True,\n",
    "    reduction='none'\n",
    ")\n",
    "\n",
    "model.compile(loss=loss, optimizer=optimizer)\n",
    "model.fit(dataset, epochs=30)"
   ]
  },
  {
   "cell_type": "code",
   "execution_count": 28,
   "id": "numerical-warrior",
   "metadata": {},
   "outputs": [],
   "source": [
    "def generate_text(model, tokenizer, init_sentence=\"<start>\", max_len=20):\n",
    "    # 테스트를 위해서 입력받은 init_sentence도 텐서로 변환합니다\n",
    "    test_input = tokenizer.texts_to_sequences([init_sentence])\n",
    "    test_tensor = tf.convert_to_tensor(test_input, dtype=tf.int64)\n",
    "    end_token = tokenizer.word_index[\"<end>\"]\n",
    "\n",
    "    # 단어 하나씩 예측해 문장을 만듭니다\n",
    "    #    1. 입력받은 문장의 텐서를 입력합니다\n",
    "    #    2. 예측된 값 중 가장 높은 확률인 word index를 뽑아냅니다\n",
    "    #    3. 2에서 예측된 word index를 문장 뒤에 붙입니다\n",
    "    #    4. 모델이 <end>를 예측했거나, max_len에 도달했다면 문장 생성을 마칩니다\n",
    "    while True:\n",
    "        # 1\n",
    "        predict = model(test_tensor) \n",
    "        # 2\n",
    "        predict_word = tf.argmax(tf.nn.softmax(predict, axis=-1), axis=-1)[:, -1] \n",
    "        # 3 \n",
    "        test_tensor = tf.concat([test_tensor, tf.expand_dims(predict_word, axis=0)], axis=-1)\n",
    "        # 4\n",
    "        if predict_word.numpy()[0] == end_token: break\n",
    "        if test_tensor.shape[1] >= max_len: break\n",
    "\n",
    "    generated = \"\"\n",
    "    # tokenizer를 이용해 word index를 단어로 하나씩 변환합니다 \n",
    "    for word_index in test_tensor[0].numpy():\n",
    "        generated += tokenizer.index_word[word_index] + \" \"\n",
    "\n",
    "    return generated"
   ]
  },
  {
   "cell_type": "code",
   "execution_count": 29,
   "id": "latter-speed",
   "metadata": {},
   "outputs": [
    {
     "data": {
      "text/plain": [
       "'<start> he said i know what you got a vacuum mouth <end> '"
      ]
     },
     "execution_count": 29,
     "metadata": {},
     "output_type": "execute_result"
    }
   ],
   "source": [
    "generate_text(model, tokenizer, init_sentence=\"<start> he\") ## 4-6"
   ]
  },
  {
   "cell_type": "code",
   "execution_count": null,
   "id": "incorrect-showcase",
   "metadata": {},
   "outputs": [],
   "source": []
  }
 ],
 "metadata": {
  "kernelspec": {
   "display_name": "Python 3",
   "language": "python",
   "name": "python3"
  },
  "language_info": {
   "codemirror_mode": {
    "name": "ipython",
    "version": 3
   },
   "file_extension": ".py",
   "mimetype": "text/x-python",
   "name": "python",
   "nbconvert_exporter": "python",
   "pygments_lexer": "ipython3",
   "version": "3.7.9"
  }
 },
 "nbformat": 4,
 "nbformat_minor": 5
}
