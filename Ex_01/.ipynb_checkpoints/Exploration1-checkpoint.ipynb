{
 "cells": [
  {
   "cell_type": "markdown",
   "id": "medical-pharmaceutical",
   "metadata": {},
   "source": [
    "# Mnist 손글씨 숫자 인식"
   ]
  },
  {
   "cell_type": "code",
   "execution_count": 4,
   "id": "subjective-monthly",
   "metadata": {},
   "outputs": [
    {
     "name": "stdout",
     "output_type": "stream",
     "text": [
      "2.4.1\n",
      "60000\n",
      "(60000, 28, 28)\n"
     ]
    }
   ],
   "source": [
    "import tensorflow as tf\n",
    "from tensorflow import keras\n",
    "\n",
    "import numpy as np\n",
    "import matplotlib.pyplot as plt\n",
    "\n",
    "print(tf.__version__)\n",
    "mnist = keras.datasets.mnist\n",
    "\n",
    "\n",
    "(x_train, y_train), (x_test, y_test) = keras.datasets.mnist.load_data()   \n",
    "\n",
    "print(len(x_train))\n",
    "print(x_train.shape) # 60,000개의 이미지인데 크기가 28 X 28"
   ]
  },
  {
   "cell_type": "markdown",
   "id": "improving-support",
   "metadata": {},
   "source": [
    "### 손글씨 이미지 출력"
   ]
  },
  {
   "cell_type": "code",
   "execution_count": 12,
   "id": "prime-teach",
   "metadata": {},
   "outputs": [
    {
     "data": {
      "image/png": "[encoded data removed]",
      "text/plain": [
       "<Figure size 432x288 with 1 Axes>"
      ]
     },
     "metadata": {
      "needs_background": "light"
     },
     "output_type": "display_data"
    }
   ],
   "source": [
    "plt.imshow(x_train[4000], cmap='gray')\n",
    "plt.show()"
   ]
  },
  {
   "cell_type": "code",
   "execution_count": 11,
   "id": "adopted-wheel",
   "metadata": {},
   "outputs": [
    {
     "name": "stdout",
     "output_type": "stream",
     "text": [
      "7\n"
     ]
    }
   ],
   "source": [
    "print(y_train[4000])"
   ]
  },
  {
   "cell_type": "markdown",
   "id": "liked-reward",
   "metadata": {},
   "source": [
    "- y에는 x에 들어있는 이미지에 대응하는 실제 숫자 값이 담겨있다."
   ]
  },
  {
   "cell_type": "code",
   "execution_count": 13,
   "id": "institutional-annual",
   "metadata": {},
   "outputs": [
    {
     "data": {
      "image/png": "[encoded data removed]",
      "text/plain": [
       "<Figure size 432x288 with 1 Axes>"
      ]
     },
     "metadata": {
      "needs_background": "light"
     },
     "output_type": "display_data"
    },
    {
     "name": "stdout",
     "output_type": "stream",
     "text": [
      "3001 번째 이미지 숫자는 9\n"
     ]
    }
   ],
   "source": [
    "index=3000\n",
    "plt.imshow(x_train[index], cmap=plt.cm.binary)\n",
    "plt.show()\n",
    "print(index+1,'번째 이미지 숫자는', y_train[index])"
   ]
  },
  {
   "cell_type": "markdown",
   "id": "coral-transportation",
   "metadata": {},
   "source": [
    "### train용, test용 데이터"
   ]
  },
  {
   "cell_type": "code",
   "execution_count": 14,
   "id": "abstract-writer",
   "metadata": {},
   "outputs": [
    {
     "name": "stdout",
     "output_type": "stream",
     "text": [
      "(60000, 28, 28)\n"
     ]
    }
   ],
   "source": [
    "# train 데이터 개수\n",
    "print(x_train.shape) # 28X28 크기의 이미지가 60,000장"
   ]
  },
  {
   "cell_type": "code",
   "execution_count": 15,
   "id": "graduate-pressure",
   "metadata": {},
   "outputs": [
    {
     "name": "stdout",
     "output_type": "stream",
     "text": [
      "(10000, 28, 28)\n"
     ]
    }
   ],
   "source": [
    "print(x_test.shape) # 이미지 10,000장"
   ]
  },
  {
   "cell_type": "code",
   "execution_count": 16,
   "id": "educational-kingdom",
   "metadata": {},
   "outputs": [
    {
     "name": "stdout",
     "output_type": "stream",
     "text": [
      "(60000,)\n",
      "(10000,)\n"
     ]
    }
   ],
   "source": [
    "print(y_train.shape) # x_train 이미지에 해당하는 숫자 60,000개\n",
    "print(y_test.shape) # x_test 이미지에 해당하는 숫자 10,000개"
   ]
  },
  {
   "cell_type": "markdown",
   "id": "chemical-karma",
   "metadata": {},
   "source": [
    "### 데이터 전처리"
   ]
  },
  {
   "cell_type": "code",
   "execution_count": 17,
   "id": "introductory-judge",
   "metadata": {},
   "outputs": [
    {
     "name": "stdout",
     "output_type": "stream",
     "text": [
      "최소값: 0, 최대값 : 255\n"
     ]
    }
   ],
   "source": [
    "print('최소값: {}, 최대값 : {}'.format(np.min(x_train), np.max(x_train)))\n",
    "# 입력은 0~1사이의 값으로 정규화 시켜준다.\n",
    "# 0~255 사이에 있으므로 255.0으로 나누어준다."
   ]
  },
  {
   "cell_type": "markdown",
   "id": "placed-reproduction",
   "metadata": {},
   "source": [
    "### 데이터 255.0으로 나누어 0~1값으로 정규화"
   ]
  },
  {
   "cell_type": "code",
   "execution_count": 18,
   "id": "liberal-watts",
   "metadata": {},
   "outputs": [],
   "source": [
    "x_train_norm, x_test_norm = x_train/255.0 , x_test/255.0"
   ]
  },
  {
   "cell_type": "code",
   "execution_count": 19,
   "id": "stone-neighborhood",
   "metadata": {},
   "outputs": [
    {
     "name": "stdout",
     "output_type": "stream",
     "text": [
      "정규화 시킨 최소값:0.0, 정규화 시킨 최대값:1.0\n"
     ]
    }
   ],
   "source": [
    "print('정규화 시킨 최소값:{}, 정규화 시킨 최대값:{}'.format(np.min(x_train_norm), np.max(x_train_norm)))"
   ]
  },
  {
   "cell_type": "markdown",
   "id": "governmental-clerk",
   "metadata": {},
   "source": [
    "### 이제 데이터가 준비되었으니 딥러닝 네트워크 설계\n",
    "- LeNet 이용"
   ]
  },
  {
   "cell_type": "code",
   "execution_count": 20,
   "id": "atmospheric-birthday",
   "metadata": {},
   "outputs": [
    {
     "name": "stdout",
     "output_type": "stream",
     "text": [
      "model 에 추가된 layer 개수 7\n"
     ]
    }
   ],
   "source": [
    "model = keras.models.Sequential()\n",
    "model.add(keras.layers.Conv2D(16, (3,3), activation='relu',input_shape=(28,28,1))) # r,g,b(3)\n",
    "model.add(keras.layers.MaxPool2D(2,2))\n",
    "model.add(keras.layers.Conv2D(32, (3,3), activation='relu'))\n",
    "model.add(keras.layers.MaxPooling2D((2,2)))\n",
    "model.add(keras.layers.Flatten())\n",
    "model.add(keras.layers.Dense(32, activation='relu'))\n",
    "model.add(keras.layers.Dense(10, activation='softmax')) # 결과적으로 나와야하는 클래스 수\n",
    "\n",
    "\n",
    "print('model 에 추가된 layer 개수', len(model.layers))\n",
    "\n",
    "# Conv2D layer 첫번째 인자 : 이미지 특징의 수, 16,32 뿐이지만 복잡한 이미지로 넘어가면 숫자를 늘려주는걸 고려\n",
    "# Dense layer 첫번째 인자 : 뉴런의 숫자, 값이 클수록 복잡한 분류기, 알파벳을 구분하고싶으면\n",
    "# 총 52개의 클래스를 분류해내야 하므로\n",
    "# 32보다 큰 64나 128 을 고려\n",
    "# 마지막 Dense layer 뉴런 숫자는 결과적으로 나와야하는 클래스 수 : 알파벳이면 52"
   ]
  },
  {
   "cell_type": "markdown",
   "id": "optional-colony",
   "metadata": {},
   "source": [
    "### 딥러닝 네트워크 모델 확인"
   ]
  },
  {
   "cell_type": "code",
   "execution_count": 21,
   "id": "steady-powell",
   "metadata": {},
   "outputs": [
    {
     "name": "stdout",
     "output_type": "stream",
     "text": [
      "Model: \"sequential\"\n",
      "_________________________________________________________________\n",
      "Layer (type)                 Output Shape              Param #   \n",
      "=================================================================\n",
      "conv2d (Conv2D)              (None, 26, 26, 16)        160       \n",
      "_________________________________________________________________\n",
      "max_pooling2d (MaxPooling2D) (None, 13, 13, 16)        0         \n",
      "_________________________________________________________________\n",
      "conv2d_1 (Conv2D)            (None, 11, 11, 32)        4640      \n",
      "_________________________________________________________________\n",
      "max_pooling2d_1 (MaxPooling2 (None, 5, 5, 32)          0         \n",
      "_________________________________________________________________\n",
      "flatten (Flatten)            (None, 800)               0         \n",
      "_________________________________________________________________\n",
      "dense (Dense)                (None, 32)                25632     \n",
      "_________________________________________________________________\n",
      "dense_1 (Dense)              (None, 10)                330       \n",
      "=================================================================\n",
      "Total params: 30,762\n",
      "Trainable params: 30,762\n",
      "Non-trainable params: 0\n",
      "_________________________________________________________________\n"
     ]
    }
   ],
   "source": [
    "model.summary()"
   ]
  },
  {
   "cell_type": "markdown",
   "id": "narrow-champagne",
   "metadata": {},
   "source": [
    "### 딥러닝 네트워크 학습시키기"
   ]
  },
  {
   "cell_type": "code",
   "execution_count": 22,
   "id": "handed-absorption",
   "metadata": {},
   "outputs": [
    {
     "name": "stdout",
     "output_type": "stream",
     "text": [
      "reshape 전 x_train_norm 구조 : (60000, 28, 28)\n",
      "reshape 전 x_test_norm 구조 : (10000, 28, 28)\n"
     ]
    }
   ],
   "source": [
    "# x_train.shape에 채널수에 대한 정보가 없으므로 reshape으로 추가해야한다.\n",
    "print('reshape 전 x_train_norm 구조 : {0}\\n\\\n",
    "reshape 전 x_test_norm 구조 : {1}'.format(x_train_norm.shape, x_test_norm.shape))"
   ]
  },
  {
   "cell_type": "code",
   "execution_count": 23,
   "id": "amateur-organic",
   "metadata": {},
   "outputs": [],
   "source": [
    "# reshape\n",
    "x_train_reshape = x_train_norm.reshape(-1,28,28,1) # == (60,000 ,28, 28, 1)\n",
    "x_test_reshape = x_test_norm.reshape(-1,28,28,1)"
   ]
  },
  {
   "cell_type": "code",
   "execution_count": 24,
   "id": "heated-rouge",
   "metadata": {
    "scrolled": true
   },
   "outputs": [
    {
     "name": "stdout",
     "output_type": "stream",
     "text": [
      "reshape 후 x_train_reshape 구조 : (60000, 28, 28, 1)\n",
      "reshape 후 x_test_reshape 구조 : (10000, 28, 28, 1)\n"
     ]
    }
   ],
   "source": [
    "print('reshape 후 x_train_reshape 구조 : {0}\\n\\\n",
    "reshape 후 x_test_reshape 구조 : {1}'.format(x_train_reshape.shape, x_test_reshape.shape))"
   ]
  },
  {
   "cell_type": "markdown",
   "id": "interstate-librarian",
   "metadata": {},
   "source": [
    "### reshape이 완료되었으니 train데이터로 딥러닝 네트워크를 학습"
   ]
  },
  {
   "cell_type": "code",
   "execution_count": 25,
   "id": "frequent-diagnosis",
   "metadata": {},
   "outputs": [
    {
     "name": "stdout",
     "output_type": "stream",
     "text": [
      "Epoch 1/10\n",
      "1875/1875 [==============================] - 10s 3ms/step - loss: 0.4430 - accuracy: 0.8596\n",
      "Epoch 2/10\n",
      "1875/1875 [==============================] - 5s 3ms/step - loss: 0.0675 - accuracy: 0.9795\n",
      "Epoch 3/10\n",
      "1875/1875 [==============================] - 5s 3ms/step - loss: 0.0456 - accuracy: 0.9848\n",
      "Epoch 4/10\n",
      "1875/1875 [==============================] - 5s 3ms/step - loss: 0.0371 - accuracy: 0.9890\n",
      "Epoch 5/10\n",
      "1875/1875 [==============================] - 5s 3ms/step - loss: 0.0299 - accuracy: 0.9904\n",
      "Epoch 6/10\n",
      "1875/1875 [==============================] - 5s 3ms/step - loss: 0.0240 - accuracy: 0.9923\n",
      "Epoch 7/10\n",
      "1875/1875 [==============================] - 5s 3ms/step - loss: 0.0219 - accuracy: 0.9927\n",
      "Epoch 8/10\n",
      "1875/1875 [==============================] - 5s 3ms/step - loss: 0.0160 - accuracy: 0.9947\n",
      "Epoch 9/10\n",
      "1875/1875 [==============================] - 5s 3ms/step - loss: 0.0135 - accuracy: 0.9960\n",
      "Epoch 10/10\n",
      "1875/1875 [==============================] - 5s 3ms/step - loss: 0.0105 - accuracy: 0.9964\n"
     ]
    },
    {
     "data": {
      "text/plain": [
       "<tensorflow.python.keras.callbacks.History at 0x7f38c9756150>"
      ]
     },
     "execution_count": 25,
     "metadata": {},
     "output_type": "execute_result"
    }
   ],
   "source": [
    "model.compile(optimizer='adam', loss = 'sparse_categorical_crossentropy', metrics=['accuracy'])\n",
    "\n",
    "model.fit(x_train_reshape, y_train, epochs=10)"
   ]
  },
  {
   "cell_type": "code",
   "execution_count": 27,
   "id": "loaded-earthquake",
   "metadata": {},
   "outputs": [
    {
     "name": "stdout",
     "output_type": "stream",
     "text": [
      "313/313 - 2s - loss: 0.0340 - accuracy: 0.9901\n",
      "test_loss: 0.03400203585624695 \n",
      "test_accuracy: 0.9901000261306763\n"
     ]
    }
   ],
   "source": [
    "test_loss, test_accuracy = model.evaluate(x_test_reshape,y_test, verbose=2)\n",
    "print(\"test_loss: {} \".format(test_loss))\n",
    "print(\"test_accuracy: {}\".format(test_accuracy))"
   ]
  },
  {
   "cell_type": "code",
   "execution_count": 28,
   "id": "first-neighborhood",
   "metadata": {},
   "outputs": [
    {
     "name": "stdout",
     "output_type": "stream",
     "text": [
      "model.predict() 결과 :  [1.2096516e-11 5.7525562e-09 5.3232498e-09 1.1322628e-07 3.8631851e-11\n",
      " 5.0341480e-13 7.5453973e-17 9.9999988e-01 2.6428945e-10 4.3339726e-10]\n",
      "model이 추론한 가장 가능성이 높은 결과 :  7\n",
      "실제 데이터의 라벨 :  7\n"
     ]
    }
   ],
   "source": [
    "predicted_result = model.predict(x_test_reshape)  # model이 추론한 확률값. \n",
    "predicted_labels = np.argmax(predicted_result, axis=1)\n",
    "\n",
    "idx=0  #1번째 x_test를 살펴보자. \n",
    "print('model.predict() 결과 : ', predicted_result[idx])\n",
    "print('model이 추론한 가장 가능성이 높은 결과 : ', predicted_labels[idx])\n",
    "print('실제 데이터의 라벨 : ', y_test[idx])"
   ]
  },
  {
   "cell_type": "code",
   "execution_count": 29,
   "id": "academic-unemployment",
   "metadata": {},
   "outputs": [
    {
     "data": {
      "image/png": "[encoded data removed]",
      "text/plain": [
       "<Figure size 432x288 with 1 Axes>"
      ]
     },
     "metadata": {
      "needs_background": "light"
     },
     "output_type": "display_data"
    }
   ],
   "source": [
    "plt.imshow(x_test[idx],cmap=plt.cm.binary)\n",
    "plt.show()"
   ]
  },
  {
   "cell_type": "code",
   "execution_count": 30,
   "id": "pursuant-botswana",
   "metadata": {},
   "outputs": [
    {
     "name": "stdout",
     "output_type": "stream",
     "text": [
      "예측확률분포: [6.6817921e-07 2.2184590e-09 1.5137820e-08 2.6710604e-06 1.9357274e-09\n",
      " 3.3521256e-04 4.3157607e-01 3.0541007e-11 5.6808537e-01 4.5814486e-13]\n",
      "라벨: 6, 예측결과: 8\n"
     ]
    },
    {
     "data": {
      "image/png": "[encoded data removed]",
      "text/plain": [
       "<Figure size 432x288 with 1 Axes>"
      ]
     },
     "metadata": {
      "needs_background": "light"
     },
     "output_type": "display_data"
    },
    {
     "name": "stdout",
     "output_type": "stream",
     "text": [
      "예측확률분포: [3.7587952e-04 2.7246609e-08 2.3760386e-01 8.4651336e-03 8.2691035e-11\n",
      " 2.6030412e-07 1.8824817e-08 6.1652820e-05 7.5349319e-01 9.5883674e-09]\n",
      "라벨: 3, 예측결과: 8\n"
     ]
    },
    {
     "data": {
      "image/png": "[encoded data removed]",
      "text/plain": [
       "<Figure size 432x288 with 1 Axes>"
      ]
     },
     "metadata": {
      "needs_background": "light"
     },
     "output_type": "display_data"
    },
    {
     "name": "stdout",
     "output_type": "stream",
     "text": [
      "예측확률분포: [1.3062368e-10 2.5080336e-08 5.7386109e-09 4.5894015e-01 4.1365846e-07\n",
      " 5.4100555e-01 5.3630173e-10 3.7852479e-10 2.8033879e-05 2.5788091e-05]\n",
      "라벨: 3, 예측결과: 5\n"
     ]
    },
    {
     "data": {
      "image/png": "[encoded data removed]",
      "text/plain": [
       "<Figure size 432x288 with 1 Axes>"
      ]
     },
     "metadata": {
      "needs_background": "light"
     },
     "output_type": "display_data"
    },
    {
     "name": "stdout",
     "output_type": "stream",
     "text": [
      "예측확률분포: [1.4043241e-06 9.1954702e-01 1.2151056e-02 2.4410190e-04 3.3563543e-07\n",
      " 8.7530189e-08 1.1566078e-09 6.7738287e-02 3.1762480e-04 1.5241619e-07]\n",
      "라벨: 2, 예측결과: 1\n"
     ]
    },
    {
     "data": {
      "image/png": "[encoded data removed]",
      "text/plain": [
       "<Figure size 432x288 with 1 Axes>"
      ]
     },
     "metadata": {
      "needs_background": "light"
     },
     "output_type": "display_data"
    },
    {
     "name": "stdout",
     "output_type": "stream",
     "text": [
      "예측확률분포: [1.6353628e-06 1.7702994e-11 3.4428658e-07 2.5156356e-02 1.5393527e-05\n",
      " 8.0676400e-05 4.0567933e-08 1.3086732e-10 9.7467673e-01 6.8746340e-05]\n",
      "라벨: 3, 예측결과: 8\n"
     ]
    },
    {
     "data": {
      "image/png": "[encoded data removed]",
      "text/plain": [
       "<Figure size 432x288 with 1 Axes>"
      ]
     },
     "metadata": {
      "needs_background": "light"
     },
     "output_type": "display_data"
    }
   ],
   "source": [
    "import random\n",
    "wrong_predict_list=[]\n",
    "for i, _ in enumerate(predicted_labels):\n",
    "    # i번째 test_labels과 y_test이 다른 경우만 모아 봅시다. \n",
    "    if predicted_labels[i] != y_test[i]:\n",
    "        wrong_predict_list.append(i)\n",
    "\n",
    "# wrong_predict_list 에서 랜덤하게 5개만 뽑아봅시다.\n",
    "samples = random.choices(population=wrong_predict_list, k=5)\n",
    "\n",
    "for n in samples:\n",
    "    print(\"예측확률분포: \" + str(predicted_result[n]))\n",
    "    print(\"라벨: \" + str(y_test[n]) + \", 예측결과: \" + str(predicted_labels[n]))\n",
    "    plt.imshow(x_test[n], cmap=plt.cm.binary)\n",
    "    plt.show()"
   ]
  },
  {
   "cell_type": "code",
   "execution_count": null,
   "id": "inside-pillow",
   "metadata": {},
   "outputs": [],
   "source": []
  }
 ],
 "metadata": {
  "kernelspec": {
   "display_name": "Python 3",
   "language": "python",
   "name": "python3"
  },
  "language_info": {
   "codemirror_mode": {
    "name": "ipython",
    "version": 3
   },
   "file_extension": ".py",
   "mimetype": "text/x-python",
   "name": "python",
   "nbconvert_exporter": "python",
   "pygments_lexer": "ipython3",
   "version": "3.7.9"
  }
 },
 "nbformat": 4,
 "nbformat_minor": 5
}
