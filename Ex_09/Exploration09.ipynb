{
 "cells": [
  {
   "cell_type": "markdown",
   "id": "enormous-delaware",
   "metadata": {},
   "source": [
    "# 프로젝트 - movielens 영화 추천 실습\n",
    "- MF 모델학습방법으로 좋아할 만한 영화 추천 시스템을 제작\n",
    "\n",
    "\n",
    "- 별점데이터는 explicit데이터이지만, implicit데이터로 간주하고 테스트\n",
    "- 별점을 시청횟수로 해석해서 생각\n",
    "- 3점 미만으로 준 데이터는 선호하지 않는다고 가정하고 제외\n",
    "\n",
    "# 목표\n",
    "- 추천시스템 개념과 목적\n",
    "- implicit 라이브러리를 활용하여 matrix factorization(MF)기반의 추천 모델\n",
    "- 별점을 활용하여 비슷한 영화를 찾고 영화 추천\n",
    "- 추천 시스템에서 자주 사용되는 데이터 구조인 CSR Matrix\n",
    "- Explicit data와 implicit data의 차이점을 익힌다\n",
    "- 새로운 데이터셋으로 직접 추천 모델을 만든다."
   ]
  },
  {
   "cell_type": "markdown",
   "id": "comparable-french",
   "metadata": {},
   "source": [
    "# 데이터 준비 및 전처리"
   ]
  },
  {
   "cell_type": "code",
   "execution_count": 1,
   "id": "chinese-religion",
   "metadata": {},
   "outputs": [
    {
     "data": {
      "text/html": [
       "<div>\n",
       "<style scoped>\n",
       "    .dataframe tbody tr th:only-of-type {\n",
       "        vertical-align: middle;\n",
       "    }\n",
       "\n",
       "    .dataframe tbody tr th {\n",
       "        vertical-align: top;\n",
       "    }\n",
       "\n",
       "    .dataframe thead th {\n",
       "        text-align: right;\n",
       "    }\n",
       "</style>\n",
       "<table border=\"1\" class=\"dataframe\">\n",
       "  <thead>\n",
       "    <tr style=\"text-align: right;\">\n",
       "      <th></th>\n",
       "      <th>user_id</th>\n",
       "      <th>movie_id</th>\n",
       "      <th>ratings</th>\n",
       "      <th>timestamp</th>\n",
       "    </tr>\n",
       "  </thead>\n",
       "  <tbody>\n",
       "    <tr>\n",
       "      <th>0</th>\n",
       "      <td>1</td>\n",
       "      <td>1193</td>\n",
       "      <td>5</td>\n",
       "      <td>978300760</td>\n",
       "    </tr>\n",
       "    <tr>\n",
       "      <th>1</th>\n",
       "      <td>1</td>\n",
       "      <td>661</td>\n",
       "      <td>3</td>\n",
       "      <td>978302109</td>\n",
       "    </tr>\n",
       "    <tr>\n",
       "      <th>2</th>\n",
       "      <td>1</td>\n",
       "      <td>914</td>\n",
       "      <td>3</td>\n",
       "      <td>978301968</td>\n",
       "    </tr>\n",
       "    <tr>\n",
       "      <th>3</th>\n",
       "      <td>1</td>\n",
       "      <td>3408</td>\n",
       "      <td>4</td>\n",
       "      <td>978300275</td>\n",
       "    </tr>\n",
       "    <tr>\n",
       "      <th>4</th>\n",
       "      <td>1</td>\n",
       "      <td>2355</td>\n",
       "      <td>5</td>\n",
       "      <td>978824291</td>\n",
       "    </tr>\n",
       "  </tbody>\n",
       "</table>\n",
       "</div>"
      ],
      "text/plain": [
       "   user_id  movie_id  ratings  timestamp\n",
       "0        1      1193        5  978300760\n",
       "1        1       661        3  978302109\n",
       "2        1       914        3  978301968\n",
       "3        1      3408        4  978300275\n",
       "4        1      2355        5  978824291"
      ]
     },
     "execution_count": 1,
     "metadata": {},
     "output_type": "execute_result"
    }
   ],
   "source": [
    "import os\n",
    "import pandas as pd\n",
    "\n",
    "rating_file_path = os.getenv('HOME') + '/aiffel/recommendata_iu/data/ml-1m/ratings.dat'\n",
    "ratings_cols = ['user_id', 'movie_id', 'ratings', 'timestamp']\n",
    "ratings = pd.read_csv(rating_file_path, sep='::', names=ratings_cols, engine='python', encoding = \"ISO-8859-1\")\n",
    "orginal_data_size = len(ratings)\n",
    "ratings.head()"
   ]
  },
  {
   "cell_type": "code",
   "execution_count": 2,
   "id": "brazilian-change",
   "metadata": {},
   "outputs": [
    {
     "name": "stdout",
     "output_type": "stream",
     "text": [
      "orginal_data_size: 1000209, filtered_data_size: 836478\n",
      "Ratio of Remaining Data is 83.63%\n"
     ]
    }
   ],
   "source": [
    "# 3점 이상만 남깁니다.\n",
    "ratings = ratings[ratings['ratings']>=3]\n",
    "filtered_data_size = len(ratings)\n",
    "\n",
    "print(f'orginal_data_size: {orginal_data_size}, filtered_data_size: {filtered_data_size}')\n",
    "print(f'Ratio of Remaining Data is {filtered_data_size / orginal_data_size:.2%}')"
   ]
  },
  {
   "cell_type": "code",
   "execution_count": 3,
   "id": "useful-cosmetic",
   "metadata": {},
   "outputs": [],
   "source": [
    "# ratings 컬럼의 이름을 counts로 바꿉니다.\n",
    "ratings.rename(columns={'ratings':'counts'}, inplace=True)"
   ]
  },
  {
   "cell_type": "code",
   "execution_count": 4,
   "id": "southwest-asian",
   "metadata": {},
   "outputs": [
    {
     "data": {
      "text/html": [
       "<div>\n",
       "<style scoped>\n",
       "    .dataframe tbody tr th:only-of-type {\n",
       "        vertical-align: middle;\n",
       "    }\n",
       "\n",
       "    .dataframe tbody tr th {\n",
       "        vertical-align: top;\n",
       "    }\n",
       "\n",
       "    .dataframe thead th {\n",
       "        text-align: right;\n",
       "    }\n",
       "</style>\n",
       "<table border=\"1\" class=\"dataframe\">\n",
       "  <thead>\n",
       "    <tr style=\"text-align: right;\">\n",
       "      <th></th>\n",
       "      <th>user_id</th>\n",
       "      <th>movie_id</th>\n",
       "      <th>counts</th>\n",
       "      <th>timestamp</th>\n",
       "    </tr>\n",
       "  </thead>\n",
       "  <tbody>\n",
       "    <tr>\n",
       "      <th>0</th>\n",
       "      <td>1</td>\n",
       "      <td>1193</td>\n",
       "      <td>5</td>\n",
       "      <td>978300760</td>\n",
       "    </tr>\n",
       "    <tr>\n",
       "      <th>1</th>\n",
       "      <td>1</td>\n",
       "      <td>661</td>\n",
       "      <td>3</td>\n",
       "      <td>978302109</td>\n",
       "    </tr>\n",
       "    <tr>\n",
       "      <th>2</th>\n",
       "      <td>1</td>\n",
       "      <td>914</td>\n",
       "      <td>3</td>\n",
       "      <td>978301968</td>\n",
       "    </tr>\n",
       "    <tr>\n",
       "      <th>3</th>\n",
       "      <td>1</td>\n",
       "      <td>3408</td>\n",
       "      <td>4</td>\n",
       "      <td>978300275</td>\n",
       "    </tr>\n",
       "    <tr>\n",
       "      <th>4</th>\n",
       "      <td>1</td>\n",
       "      <td>2355</td>\n",
       "      <td>5</td>\n",
       "      <td>978824291</td>\n",
       "    </tr>\n",
       "    <tr>\n",
       "      <th>...</th>\n",
       "      <td>...</td>\n",
       "      <td>...</td>\n",
       "      <td>...</td>\n",
       "      <td>...</td>\n",
       "    </tr>\n",
       "    <tr>\n",
       "      <th>1000203</th>\n",
       "      <td>6040</td>\n",
       "      <td>1090</td>\n",
       "      <td>3</td>\n",
       "      <td>956715518</td>\n",
       "    </tr>\n",
       "    <tr>\n",
       "      <th>1000205</th>\n",
       "      <td>6040</td>\n",
       "      <td>1094</td>\n",
       "      <td>5</td>\n",
       "      <td>956704887</td>\n",
       "    </tr>\n",
       "    <tr>\n",
       "      <th>1000206</th>\n",
       "      <td>6040</td>\n",
       "      <td>562</td>\n",
       "      <td>5</td>\n",
       "      <td>956704746</td>\n",
       "    </tr>\n",
       "    <tr>\n",
       "      <th>1000207</th>\n",
       "      <td>6040</td>\n",
       "      <td>1096</td>\n",
       "      <td>4</td>\n",
       "      <td>956715648</td>\n",
       "    </tr>\n",
       "    <tr>\n",
       "      <th>1000208</th>\n",
       "      <td>6040</td>\n",
       "      <td>1097</td>\n",
       "      <td>4</td>\n",
       "      <td>956715569</td>\n",
       "    </tr>\n",
       "  </tbody>\n",
       "</table>\n",
       "<p>836478 rows × 4 columns</p>\n",
       "</div>"
      ],
      "text/plain": [
       "         user_id  movie_id  counts  timestamp\n",
       "0              1      1193       5  978300760\n",
       "1              1       661       3  978302109\n",
       "2              1       914       3  978301968\n",
       "3              1      3408       4  978300275\n",
       "4              1      2355       5  978824291\n",
       "...          ...       ...     ...        ...\n",
       "1000203     6040      1090       3  956715518\n",
       "1000205     6040      1094       5  956704887\n",
       "1000206     6040       562       5  956704746\n",
       "1000207     6040      1096       4  956715648\n",
       "1000208     6040      1097       4  956715569\n",
       "\n",
       "[836478 rows x 4 columns]"
      ]
     },
     "execution_count": 4,
     "metadata": {},
     "output_type": "execute_result"
    }
   ],
   "source": [
    "ratings"
   ]
  },
  {
   "cell_type": "code",
   "execution_count": 5,
   "id": "hazardous-level",
   "metadata": {},
   "outputs": [
    {
     "data": {
      "text/html": [
       "<div>\n",
       "<style scoped>\n",
       "    .dataframe tbody tr th:only-of-type {\n",
       "        vertical-align: middle;\n",
       "    }\n",
       "\n",
       "    .dataframe tbody tr th {\n",
       "        vertical-align: top;\n",
       "    }\n",
       "\n",
       "    .dataframe thead th {\n",
       "        text-align: right;\n",
       "    }\n",
       "</style>\n",
       "<table border=\"1\" class=\"dataframe\">\n",
       "  <thead>\n",
       "    <tr style=\"text-align: right;\">\n",
       "      <th></th>\n",
       "      <th>movie_id</th>\n",
       "      <th>title</th>\n",
       "      <th>genre</th>\n",
       "    </tr>\n",
       "  </thead>\n",
       "  <tbody>\n",
       "    <tr>\n",
       "      <th>0</th>\n",
       "      <td>1</td>\n",
       "      <td>Toy Story (1995)</td>\n",
       "      <td>Animation|Children's|Comedy</td>\n",
       "    </tr>\n",
       "    <tr>\n",
       "      <th>1</th>\n",
       "      <td>2</td>\n",
       "      <td>Jumanji (1995)</td>\n",
       "      <td>Adventure|Children's|Fantasy</td>\n",
       "    </tr>\n",
       "    <tr>\n",
       "      <th>2</th>\n",
       "      <td>3</td>\n",
       "      <td>Grumpier Old Men (1995)</td>\n",
       "      <td>Comedy|Romance</td>\n",
       "    </tr>\n",
       "    <tr>\n",
       "      <th>3</th>\n",
       "      <td>4</td>\n",
       "      <td>Waiting to Exhale (1995)</td>\n",
       "      <td>Comedy|Drama</td>\n",
       "    </tr>\n",
       "    <tr>\n",
       "      <th>4</th>\n",
       "      <td>5</td>\n",
       "      <td>Father of the Bride Part II (1995)</td>\n",
       "      <td>Comedy</td>\n",
       "    </tr>\n",
       "  </tbody>\n",
       "</table>\n",
       "</div>"
      ],
      "text/plain": [
       "   movie_id                               title                         genre\n",
       "0         1                    Toy Story (1995)   Animation|Children's|Comedy\n",
       "1         2                      Jumanji (1995)  Adventure|Children's|Fantasy\n",
       "2         3             Grumpier Old Men (1995)                Comedy|Romance\n",
       "3         4            Waiting to Exhale (1995)                  Comedy|Drama\n",
       "4         5  Father of the Bride Part II (1995)                        Comedy"
      ]
     },
     "execution_count": 5,
     "metadata": {},
     "output_type": "execute_result"
    }
   ],
   "source": [
    "# 영화 제목을 보기 위해 메타 데이터를 읽어옵니다.\n",
    "movie_file_path=os.getenv('HOME') + '/aiffel/recommendata_iu/data/ml-1m/movies.dat'\n",
    "cols = ['movie_id', 'title', 'genre'] \n",
    "movies = pd.read_csv(movie_file_path, sep='::', names=cols, engine='python', encoding='ISO-8859-1')\n",
    "movies.head()"
   ]
  },
  {
   "cell_type": "code",
   "execution_count": 6,
   "id": "tender-religion",
   "metadata": {},
   "outputs": [
    {
     "data": {
      "text/html": [
       "<div>\n",
       "<style scoped>\n",
       "    .dataframe tbody tr th:only-of-type {\n",
       "        vertical-align: middle;\n",
       "    }\n",
       "\n",
       "    .dataframe tbody tr th {\n",
       "        vertical-align: top;\n",
       "    }\n",
       "\n",
       "    .dataframe thead th {\n",
       "        text-align: right;\n",
       "    }\n",
       "</style>\n",
       "<table border=\"1\" class=\"dataframe\">\n",
       "  <thead>\n",
       "    <tr style=\"text-align: right;\">\n",
       "      <th></th>\n",
       "      <th>user_id</th>\n",
       "      <th>movie_id</th>\n",
       "      <th>counts</th>\n",
       "      <th>timestamp</th>\n",
       "      <th>title</th>\n",
       "      <th>genre</th>\n",
       "    </tr>\n",
       "  </thead>\n",
       "  <tbody>\n",
       "    <tr>\n",
       "      <th>39573</th>\n",
       "      <td>2989</td>\n",
       "      <td>1</td>\n",
       "      <td>5</td>\n",
       "      <td>970774804</td>\n",
       "      <td>Toy Story (1995)</td>\n",
       "      <td>Animation|Children's|Comedy</td>\n",
       "    </tr>\n",
       "    <tr>\n",
       "      <th>39611</th>\n",
       "      <td>3095</td>\n",
       "      <td>1</td>\n",
       "      <td>5</td>\n",
       "      <td>969652850</td>\n",
       "      <td>Toy Story (1995)</td>\n",
       "      <td>Animation|Children's|Comedy</td>\n",
       "    </tr>\n",
       "    <tr>\n",
       "      <th>39610</th>\n",
       "      <td>3090</td>\n",
       "      <td>1</td>\n",
       "      <td>4</td>\n",
       "      <td>969660551</td>\n",
       "      <td>Toy Story (1995)</td>\n",
       "      <td>Animation|Children's|Comedy</td>\n",
       "    </tr>\n",
       "    <tr>\n",
       "      <th>39609</th>\n",
       "      <td>3087</td>\n",
       "      <td>1</td>\n",
       "      <td>5</td>\n",
       "      <td>969738110</td>\n",
       "      <td>Toy Story (1995)</td>\n",
       "      <td>Animation|Children's|Comedy</td>\n",
       "    </tr>\n",
       "    <tr>\n",
       "      <th>39608</th>\n",
       "      <td>3081</td>\n",
       "      <td>1</td>\n",
       "      <td>5</td>\n",
       "      <td>969801904</td>\n",
       "      <td>Toy Story (1995)</td>\n",
       "      <td>Animation|Children's|Comedy</td>\n",
       "    </tr>\n",
       "    <tr>\n",
       "      <th>...</th>\n",
       "      <td>...</td>\n",
       "      <td>...</td>\n",
       "      <td>...</td>\n",
       "      <td>...</td>\n",
       "      <td>...</td>\n",
       "      <td>...</td>\n",
       "    </tr>\n",
       "    <tr>\n",
       "      <th>604919</th>\n",
       "      <td>627</td>\n",
       "      <td>3952</td>\n",
       "      <td>4</td>\n",
       "      <td>975783105</td>\n",
       "      <td>Contender, The (2000)</td>\n",
       "      <td>Drama|Thriller</td>\n",
       "    </tr>\n",
       "    <tr>\n",
       "      <th>604918</th>\n",
       "      <td>623</td>\n",
       "      <td>3952</td>\n",
       "      <td>4</td>\n",
       "      <td>975793580</td>\n",
       "      <td>Contender, The (2000)</td>\n",
       "      <td>Drama|Thriller</td>\n",
       "    </tr>\n",
       "    <tr>\n",
       "      <th>604917</th>\n",
       "      <td>611</td>\n",
       "      <td>3952</td>\n",
       "      <td>3</td>\n",
       "      <td>977425911</td>\n",
       "      <td>Contender, The (2000)</td>\n",
       "      <td>Drama|Thriller</td>\n",
       "    </tr>\n",
       "    <tr>\n",
       "      <th>604940</th>\n",
       "      <td>838</td>\n",
       "      <td>3952</td>\n",
       "      <td>5</td>\n",
       "      <td>975359004</td>\n",
       "      <td>Contender, The (2000)</td>\n",
       "      <td>Drama|Thriller</td>\n",
       "    </tr>\n",
       "    <tr>\n",
       "      <th>605102</th>\n",
       "      <td>2047</td>\n",
       "      <td>3952</td>\n",
       "      <td>3</td>\n",
       "      <td>986784055</td>\n",
       "      <td>Contender, The (2000)</td>\n",
       "      <td>Drama|Thriller</td>\n",
       "    </tr>\n",
       "  </tbody>\n",
       "</table>\n",
       "<p>836478 rows × 6 columns</p>\n",
       "</div>"
      ],
      "text/plain": [
       "        user_id  movie_id  counts  timestamp                  title  \\\n",
       "39573      2989         1       5  970774804       Toy Story (1995)   \n",
       "39611      3095         1       5  969652850       Toy Story (1995)   \n",
       "39610      3090         1       4  969660551       Toy Story (1995)   \n",
       "39609      3087         1       5  969738110       Toy Story (1995)   \n",
       "39608      3081         1       5  969801904       Toy Story (1995)   \n",
       "...         ...       ...     ...        ...                    ...   \n",
       "604919      627      3952       4  975783105  Contender, The (2000)   \n",
       "604918      623      3952       4  975793580  Contender, The (2000)   \n",
       "604917      611      3952       3  977425911  Contender, The (2000)   \n",
       "604940      838      3952       5  975359004  Contender, The (2000)   \n",
       "605102     2047      3952       3  986784055  Contender, The (2000)   \n",
       "\n",
       "                              genre  \n",
       "39573   Animation|Children's|Comedy  \n",
       "39611   Animation|Children's|Comedy  \n",
       "39610   Animation|Children's|Comedy  \n",
       "39609   Animation|Children's|Comedy  \n",
       "39608   Animation|Children's|Comedy  \n",
       "...                             ...  \n",
       "604919               Drama|Thriller  \n",
       "604918               Drama|Thriller  \n",
       "604917               Drama|Thriller  \n",
       "604940               Drama|Thriller  \n",
       "605102               Drama|Thriller  \n",
       "\n",
       "[836478 rows x 6 columns]"
      ]
     },
     "execution_count": 6,
     "metadata": {},
     "output_type": "execute_result"
    }
   ],
   "source": [
    "# data확인을 쉽게 하기 위한 merge\n",
    "data = pd.merge(ratings,movies,on='movie_id')\n",
    "data.sort_values(ascending=True,by='movie_id')"
   ]
  },
  {
   "cell_type": "code",
   "execution_count": null,
   "id": "controlling-right",
   "metadata": {},
   "outputs": [],
   "source": []
  },
  {
   "cell_type": "code",
   "execution_count": null,
   "id": "corrected-saudi",
   "metadata": {},
   "outputs": [],
   "source": []
  },
  {
   "cell_type": "code",
   "execution_count": null,
   "id": "valued-roommate",
   "metadata": {},
   "outputs": [],
   "source": []
  },
  {
   "cell_type": "code",
   "execution_count": null,
   "id": "organizational-chrome",
   "metadata": {},
   "outputs": [],
   "source": []
  },
  {
   "cell_type": "code",
   "execution_count": null,
   "id": "capable-conducting",
   "metadata": {},
   "outputs": [],
   "source": []
  },
  {
   "cell_type": "markdown",
   "id": "contained-partner",
   "metadata": {},
   "source": [
    "### 분석\n",
    "- ratings에 있는 유니크한 영화 개수\n",
    "- ratings에 있는 유니크한 사용자 수\n",
    "- 가장 인기 있는 영화 30개(인기순)"
   ]
  },
  {
   "cell_type": "code",
   "execution_count": 7,
   "id": "spectacular-bunny",
   "metadata": {},
   "outputs": [
    {
     "data": {
      "text/plain": [
       "3628"
      ]
     },
     "execution_count": 7,
     "metadata": {},
     "output_type": "execute_result"
    }
   ],
   "source": [
    "# ratings에 있는 유니크한 영화 개수\n",
    "data['movie_id'].nunique()"
   ]
  },
  {
   "cell_type": "code",
   "execution_count": 8,
   "id": "complete-twelve",
   "metadata": {},
   "outputs": [
    {
     "data": {
      "text/plain": [
       "6039"
      ]
     },
     "execution_count": 8,
     "metadata": {},
     "output_type": "execute_result"
    }
   ],
   "source": [
    "# ratings에 있는 유니크한 사용자 수\n",
    "data['user_id'].nunique()"
   ]
  },
  {
   "cell_type": "code",
   "execution_count": 9,
   "id": "aggregate-cooling",
   "metadata": {},
   "outputs": [
    {
     "data": {
      "text/plain": [
       "title\n",
       "American Beauty (1999)                                   3211\n",
       "Star Wars: Episode IV - A New Hope (1977)                2910\n",
       "Star Wars: Episode V - The Empire Strikes Back (1980)    2885\n",
       "Star Wars: Episode VI - Return of the Jedi (1983)        2716\n",
       "Saving Private Ryan (1998)                               2561\n",
       "Terminator 2: Judgment Day (1991)                        2509\n",
       "Silence of the Lambs, The (1991)                         2498\n",
       "Raiders of the Lost Ark (1981)                           2473\n",
       "Back to the Future (1985)                                2460\n",
       "Matrix, The (1999)                                       2434\n",
       "Jurassic Park (1993)                                     2413\n",
       "Sixth Sense, The (1999)                                  2385\n",
       "Fargo (1996)                                             2371\n",
       "Braveheart (1995)                                        2314\n",
       "Men in Black (1997)                                      2297\n",
       "Schindler's List (1993)                                  2257\n",
       "Princess Bride, The (1987)                               2252\n",
       "Shakespeare in Love (1998)                               2213\n",
       "L.A. Confidential (1997)                                 2210\n",
       "Shawshank Redemption, The (1994)                         2194\n",
       "Godfather, The (1972)                                    2167\n",
       "Groundhog Day (1993)                                     2121\n",
       "E.T. the Extra-Terrestrial (1982)                        2102\n",
       "Being John Malkovich (1999)                              2066\n",
       "Ghostbusters (1984)                                      2051\n",
       "Pulp Fiction (1994)                                      2030\n",
       "Forrest Gump (1994)                                      2022\n",
       "Terminator, The (1984)                                   2019\n",
       "Toy Story (1995)                                         2000\n",
       "Fugitive, The (1993)                                     1941\n",
       "Name: counts, dtype: int64"
      ]
     },
     "execution_count": 9,
     "metadata": {},
     "output_type": "execute_result"
    }
   ],
   "source": [
    "# 가장 인기 있는 영화30개(인기순)\n",
    "movie_top30 = data.groupby('title')['counts'].count()\n",
    "movie_top30.sort_values(ascending=False).head(30)"
   ]
  },
  {
   "cell_type": "markdown",
   "id": "insured-andrews",
   "metadata": {},
   "source": [
    "### 내가 선호하는 영화를 5가지 골라서 rating에 추가"
   ]
  },
  {
   "cell_type": "code",
   "execution_count": 10,
   "id": "handed-wrist",
   "metadata": {},
   "outputs": [
    {
     "data": {
      "text/html": [
       "<div>\n",
       "<style scoped>\n",
       "    .dataframe tbody tr th:only-of-type {\n",
       "        vertical-align: middle;\n",
       "    }\n",
       "\n",
       "    .dataframe tbody tr th {\n",
       "        vertical-align: top;\n",
       "    }\n",
       "\n",
       "    .dataframe thead th {\n",
       "        text-align: right;\n",
       "    }\n",
       "</style>\n",
       "<table border=\"1\" class=\"dataframe\">\n",
       "  <thead>\n",
       "    <tr style=\"text-align: right;\">\n",
       "      <th></th>\n",
       "      <th>user_id</th>\n",
       "      <th>movie_id</th>\n",
       "      <th>counts</th>\n",
       "      <th>timestamp</th>\n",
       "      <th>title</th>\n",
       "      <th>genre</th>\n",
       "    </tr>\n",
       "  </thead>\n",
       "  <tbody>\n",
       "    <tr>\n",
       "      <th>836473</th>\n",
       "      <td>5851</td>\n",
       "      <td>3607.0</td>\n",
       "      <td>5</td>\n",
       "      <td>9.577566e+08</td>\n",
       "      <td>One Little Indian (1973)</td>\n",
       "      <td>Comedy|Drama|Western</td>\n",
       "    </tr>\n",
       "    <tr>\n",
       "      <th>836474</th>\n",
       "      <td>5854</td>\n",
       "      <td>3026.0</td>\n",
       "      <td>4</td>\n",
       "      <td>9.583469e+08</td>\n",
       "      <td>Slaughterhouse (1987)</td>\n",
       "      <td>Horror</td>\n",
       "    </tr>\n",
       "    <tr>\n",
       "      <th>836475</th>\n",
       "      <td>5854</td>\n",
       "      <td>690.0</td>\n",
       "      <td>3</td>\n",
       "      <td>9.577443e+08</td>\n",
       "      <td>Promise, The (Versprechen, Das) (1994)</td>\n",
       "      <td>Romance</td>\n",
       "    </tr>\n",
       "    <tr>\n",
       "      <th>836476</th>\n",
       "      <td>5938</td>\n",
       "      <td>2909.0</td>\n",
       "      <td>4</td>\n",
       "      <td>9.572734e+08</td>\n",
       "      <td>Five Wives, Three Secretaries and Me (1998)</td>\n",
       "      <td>Documentary</td>\n",
       "    </tr>\n",
       "    <tr>\n",
       "      <th>836477</th>\n",
       "      <td>5948</td>\n",
       "      <td>1360.0</td>\n",
       "      <td>5</td>\n",
       "      <td>1.016564e+09</td>\n",
       "      <td>Identification of a Woman (Identificazione di ...</td>\n",
       "      <td>Drama</td>\n",
       "    </tr>\n",
       "    <tr>\n",
       "      <th>0</th>\n",
       "      <td>yong</td>\n",
       "      <td>NaN</td>\n",
       "      <td>5</td>\n",
       "      <td>NaN</td>\n",
       "      <td>Jurassic Park (1993)</td>\n",
       "      <td>NaN</td>\n",
       "    </tr>\n",
       "    <tr>\n",
       "      <th>1</th>\n",
       "      <td>yong</td>\n",
       "      <td>NaN</td>\n",
       "      <td>5</td>\n",
       "      <td>NaN</td>\n",
       "      <td>Men in Black (1997)</td>\n",
       "      <td>NaN</td>\n",
       "    </tr>\n",
       "    <tr>\n",
       "      <th>2</th>\n",
       "      <td>yong</td>\n",
       "      <td>NaN</td>\n",
       "      <td>5</td>\n",
       "      <td>NaN</td>\n",
       "      <td>Godfather, The (1972)</td>\n",
       "      <td>NaN</td>\n",
       "    </tr>\n",
       "    <tr>\n",
       "      <th>3</th>\n",
       "      <td>yong</td>\n",
       "      <td>NaN</td>\n",
       "      <td>5</td>\n",
       "      <td>NaN</td>\n",
       "      <td>Forrest Gump (1994)</td>\n",
       "      <td>NaN</td>\n",
       "    </tr>\n",
       "    <tr>\n",
       "      <th>4</th>\n",
       "      <td>yong</td>\n",
       "      <td>NaN</td>\n",
       "      <td>5</td>\n",
       "      <td>NaN</td>\n",
       "      <td>Toy Story (1995)</td>\n",
       "      <td>NaN</td>\n",
       "    </tr>\n",
       "  </tbody>\n",
       "</table>\n",
       "</div>"
      ],
      "text/plain": [
       "       user_id  movie_id  counts     timestamp  \\\n",
       "836473    5851    3607.0       5  9.577566e+08   \n",
       "836474    5854    3026.0       4  9.583469e+08   \n",
       "836475    5854     690.0       3  9.577443e+08   \n",
       "836476    5938    2909.0       4  9.572734e+08   \n",
       "836477    5948    1360.0       5  1.016564e+09   \n",
       "0         yong       NaN       5           NaN   \n",
       "1         yong       NaN       5           NaN   \n",
       "2         yong       NaN       5           NaN   \n",
       "3         yong       NaN       5           NaN   \n",
       "4         yong       NaN       5           NaN   \n",
       "\n",
       "                                                    title  \\\n",
       "836473                           One Little Indian (1973)   \n",
       "836474                              Slaughterhouse (1987)   \n",
       "836475             Promise, The (Versprechen, Das) (1994)   \n",
       "836476        Five Wives, Three Secretaries and Me (1998)   \n",
       "836477  Identification of a Woman (Identificazione di ...   \n",
       "0                                    Jurassic Park (1993)   \n",
       "1                                     Men in Black (1997)   \n",
       "2                                   Godfather, The (1972)   \n",
       "3                                     Forrest Gump (1994)   \n",
       "4                                        Toy Story (1995)   \n",
       "\n",
       "                       genre  \n",
       "836473  Comedy|Drama|Western  \n",
       "836474                Horror  \n",
       "836475               Romance  \n",
       "836476           Documentary  \n",
       "836477                 Drama  \n",
       "0                        NaN  \n",
       "1                        NaN  \n",
       "2                        NaN  \n",
       "3                        NaN  \n",
       "4                        NaN  "
      ]
     },
     "execution_count": 10,
     "metadata": {},
     "output_type": "execute_result"
    }
   ],
   "source": [
    "favorite_movie = ['Jurassic Park (1993)', 'Men in Black (1997)','Godfather, The (1972)','Forrest Gump (1994)','Toy Story (1995)']\n",
    "# 5가지 영화를 각각 5번식 봤다는 가정하\n",
    "my_movie = pd.DataFrame({'user_id':['yong']*5, 'title':favorite_movie, 'counts':[5]*5})\n",
    "if not data.isin({'user_id':['yong']})['user_id'].any():\n",
    "    data = data.append(my_movie)\n",
    "data.tail(10)"
   ]
  },
  {
   "cell_type": "markdown",
   "id": "disturbed-guitar",
   "metadata": {},
   "source": [
    "# 데이터 전처리"
   ]
  },
  {
   "cell_type": "code",
   "execution_count": 11,
   "id": "increased-tribute",
   "metadata": {},
   "outputs": [],
   "source": [
    "user_unique = data['user_id'].unique()\n",
    "movie_unique = data['title'].unique()\n",
    "\n",
    "user_to_index = {v:k for k,v in enumerate(user_unique)}\n",
    "movie_to_index = {v:k for k,v in enumerate(movie_unique)}"
   ]
  },
  {
   "cell_type": "code",
   "execution_count": 12,
   "id": "overhead-plasma",
   "metadata": {},
   "outputs": [
    {
     "name": "stdout",
     "output_type": "stream",
     "text": [
      "6039\n",
      "107\n"
     ]
    }
   ],
   "source": [
    "print(user_to_index['yong'])\n",
    "print(movie_to_index['Jurassic Park (1993)'])"
   ]
  },
  {
   "cell_type": "code",
   "execution_count": 13,
   "id": "collect-depth",
   "metadata": {},
   "outputs": [
    {
     "data": {
      "text/html": [
       "<div>\n",
       "<style scoped>\n",
       "    .dataframe tbody tr th:only-of-type {\n",
       "        vertical-align: middle;\n",
       "    }\n",
       "\n",
       "    .dataframe tbody tr th {\n",
       "        vertical-align: top;\n",
       "    }\n",
       "\n",
       "    .dataframe thead th {\n",
       "        text-align: right;\n",
       "    }\n",
       "</style>\n",
       "<table border=\"1\" class=\"dataframe\">\n",
       "  <thead>\n",
       "    <tr style=\"text-align: right;\">\n",
       "      <th></th>\n",
       "      <th>user_id</th>\n",
       "      <th>movie_id</th>\n",
       "      <th>counts</th>\n",
       "      <th>timestamp</th>\n",
       "      <th>title</th>\n",
       "      <th>genre</th>\n",
       "    </tr>\n",
       "  </thead>\n",
       "  <tbody>\n",
       "    <tr>\n",
       "      <th>0</th>\n",
       "      <td>0</td>\n",
       "      <td>1193.0</td>\n",
       "      <td>5</td>\n",
       "      <td>978300760.0</td>\n",
       "      <td>0</td>\n",
       "      <td>Drama</td>\n",
       "    </tr>\n",
       "    <tr>\n",
       "      <th>1</th>\n",
       "      <td>1</td>\n",
       "      <td>1193.0</td>\n",
       "      <td>5</td>\n",
       "      <td>978298413.0</td>\n",
       "      <td>0</td>\n",
       "      <td>Drama</td>\n",
       "    </tr>\n",
       "    <tr>\n",
       "      <th>2</th>\n",
       "      <td>2</td>\n",
       "      <td>1193.0</td>\n",
       "      <td>4</td>\n",
       "      <td>978220179.0</td>\n",
       "      <td>0</td>\n",
       "      <td>Drama</td>\n",
       "    </tr>\n",
       "    <tr>\n",
       "      <th>3</th>\n",
       "      <td>3</td>\n",
       "      <td>1193.0</td>\n",
       "      <td>4</td>\n",
       "      <td>978199279.0</td>\n",
       "      <td>0</td>\n",
       "      <td>Drama</td>\n",
       "    </tr>\n",
       "    <tr>\n",
       "      <th>4</th>\n",
       "      <td>4</td>\n",
       "      <td>1193.0</td>\n",
       "      <td>5</td>\n",
       "      <td>978158471.0</td>\n",
       "      <td>0</td>\n",
       "      <td>Drama</td>\n",
       "    </tr>\n",
       "    <tr>\n",
       "      <th>...</th>\n",
       "      <td>...</td>\n",
       "      <td>...</td>\n",
       "      <td>...</td>\n",
       "      <td>...</td>\n",
       "      <td>...</td>\n",
       "      <td>...</td>\n",
       "    </tr>\n",
       "    <tr>\n",
       "      <th>0</th>\n",
       "      <td>6039</td>\n",
       "      <td>NaN</td>\n",
       "      <td>5</td>\n",
       "      <td>NaN</td>\n",
       "      <td>107</td>\n",
       "      <td>NaN</td>\n",
       "    </tr>\n",
       "    <tr>\n",
       "      <th>1</th>\n",
       "      <td>6039</td>\n",
       "      <td>NaN</td>\n",
       "      <td>5</td>\n",
       "      <td>NaN</td>\n",
       "      <td>175</td>\n",
       "      <td>NaN</td>\n",
       "    </tr>\n",
       "    <tr>\n",
       "      <th>2</th>\n",
       "      <td>6039</td>\n",
       "      <td>NaN</td>\n",
       "      <td>5</td>\n",
       "      <td>NaN</td>\n",
       "      <td>607</td>\n",
       "      <td>NaN</td>\n",
       "    </tr>\n",
       "    <tr>\n",
       "      <th>3</th>\n",
       "      <td>6039</td>\n",
       "      <td>NaN</td>\n",
       "      <td>5</td>\n",
       "      <td>NaN</td>\n",
       "      <td>160</td>\n",
       "      <td>NaN</td>\n",
       "    </tr>\n",
       "    <tr>\n",
       "      <th>4</th>\n",
       "      <td>6039</td>\n",
       "      <td>NaN</td>\n",
       "      <td>5</td>\n",
       "      <td>NaN</td>\n",
       "      <td>40</td>\n",
       "      <td>NaN</td>\n",
       "    </tr>\n",
       "  </tbody>\n",
       "</table>\n",
       "<p>836483 rows × 6 columns</p>\n",
       "</div>"
      ],
      "text/plain": [
       "    user_id  movie_id  counts    timestamp  title  genre\n",
       "0         0    1193.0       5  978300760.0      0  Drama\n",
       "1         1    1193.0       5  978298413.0      0  Drama\n",
       "2         2    1193.0       4  978220179.0      0  Drama\n",
       "3         3    1193.0       4  978199279.0      0  Drama\n",
       "4         4    1193.0       5  978158471.0      0  Drama\n",
       "..      ...       ...     ...          ...    ...    ...\n",
       "0      6039       NaN       5          NaN    107    NaN\n",
       "1      6039       NaN       5          NaN    175    NaN\n",
       "2      6039       NaN       5          NaN    607    NaN\n",
       "3      6039       NaN       5          NaN    160    NaN\n",
       "4      6039       NaN       5          NaN     40    NaN\n",
       "\n",
       "[836483 rows x 6 columns]"
      ]
     },
     "execution_count": 13,
     "metadata": {},
     "output_type": "execute_result"
    }
   ],
   "source": [
    "# user_to_index 결측치제거\n",
    "temp_user_data = data['user_id'].map(user_to_index.get).dropna()\n",
    "if len(temp_user_data) == len(data):   # 모든 row가 정상적으로 인덱싱되었다면\n",
    "    data['user_id'] = temp_user_data   # data['user_id']을 인덱싱된 Series로 교체 \n",
    "    \n",
    "# movie_to_index 결측치제거\n",
    "temp_movie_data = data['title'].map(movie_to_index).dropna()\n",
    "if len(temp_movie_data)==len(data):\n",
    "    data['title'] = temp_movie_data\n",
    "data    "
   ]
  },
  {
   "attachments": {
    "%E1%84%89%E1%85%B3%E1%84%8F%E1%85%B3%E1%84%85%E1%85%B5%E1%86%AB%E1%84%89%E1%85%A3%E1%86%BA%202021-11-02%2022.02.33.png": {
     "image/png": "[encoded data removed]"
    }
   },
   "cell_type": "markdown",
   "id": "complimentary-order",
   "metadata": {},
   "source": [
    "# CSR(Compressed Sparse Row) Matrix\n",
    "\n",
    "- 거대한 행렬을 조그마한 메모리에 올려놓는것은 불가능하므로 CSR을 사용한다.\n",
    "- Sparse한 matrix에서 0이 아닌 데이터로 채워지는 데이터의 값과 좌표 정보만으로 구성하여 메모리 사용량을 최소화하고 전체데이터와 동일한 행렬을 표현할 수 있도록 하는 데이터 구조\n",
    "\n",
    "![%E1%84%89%E1%85%B3%E1%84%8F%E1%85%B3%E1%84%85%E1%85%B5%E1%86%AB%E1%84%89%E1%85%A3%E1%86%BA%202021-11-02%2022.02.33.png](attachment:%E1%84%89%E1%85%B3%E1%84%8F%E1%85%B3%E1%84%85%E1%85%B5%E1%86%AB%E1%84%89%E1%85%A3%E1%86%BA%202021-11-02%2022.02.33.png)"
   ]
  },
  {
   "cell_type": "code",
   "execution_count": 14,
   "id": "brave-concentrate",
   "metadata": {},
   "outputs": [
    {
     "data": {
      "text/plain": [
       "<6040x3628 sparse matrix of type '<class 'numpy.longlong'>'\n",
       "\twith 836483 stored elements in Compressed Sparse Row format>"
      ]
     },
     "execution_count": 14,
     "metadata": {},
     "output_type": "execute_result"
    }
   ],
   "source": [
    "from scipy.sparse import csr_matrix\n",
    "num_user = data['user_id'].nunique()\n",
    "num_movie = data['title'].nunique()\n",
    "\n",
    "csr_data = csr_matrix((data.counts, (data.user_id, data.title)), shape=(num_user, num_movie))\n",
    "csr_data"
   ]
  },
  {
   "cell_type": "markdown",
   "id": "alleged-appointment",
   "metadata": {},
   "source": [
    "# MF 모델 학습\n",
    "### implicit패키지활용\n",
    "- implicit 패키지는 암묵적 데이터셋을 사용하는 모델을 빠르게 학습할 수 있는 패키지\n",
    "- ```als```모델을 사용"
   ]
  },
  {
   "cell_type": "code",
   "execution_count": 15,
   "id": "consecutive-house",
   "metadata": {},
   "outputs": [],
   "source": [
    "from implicit.als import AlternatingLeastSquares\n",
    "import os\n",
    "import numpy as np\n",
    "\n",
    "os.environ['OPENBLAS_NUM_THREADS']='1'\n",
    "os.environ['KMP_DUPLICATE_LIB_OK']='True'\n",
    "os.environ['MKL_NUM_THREADS']='1'"
   ]
  },
  {
   "cell_type": "markdown",
   "id": "immune-diana",
   "metadata": {},
   "source": [
    "### AlternatingLeastSquares\n",
    "- 1. factors : 유저와 아이템의 벡터를 몇 차원으로\n",
    "- 2. regularization : 과적합 방지를 위해 정규화 값을 얼마나 사용하는지\n",
    "- 3. use_gpu : GPU사용하는지\n",
    "- 4. iterations: epochs"
   ]
  },
  {
   "cell_type": "code",
   "execution_count": 16,
   "id": "boxed-hearing",
   "metadata": {},
   "outputs": [],
   "source": [
    "# 모델선언\n",
    "als_model = AlternatingLeastSquares(factors=100, regularization=0.01, use_gpu=False, iterations=15, dtype=np.float32)"
   ]
  },
  {
   "cell_type": "code",
   "execution_count": 17,
   "id": "raising-semiconductor",
   "metadata": {},
   "outputs": [
    {
     "data": {
      "text/plain": [
       "<3628x6040 sparse matrix of type '<class 'numpy.longlong'>'\n",
       "\twith 836483 stored elements in Compressed Sparse Column format>"
      ]
     },
     "execution_count": 17,
     "metadata": {},
     "output_type": "execute_result"
    }
   ],
   "source": [
    "# als 모델은 input으로 (item X user 꼴의 matrix를 받기 때문에 Transpose해줍니다.)\n",
    "csr_data_transpose = csr_data.T\n",
    "csr_data_transpose"
   ]
  },
  {
   "cell_type": "code",
   "execution_count": 18,
   "id": "liquid-concord",
   "metadata": {},
   "outputs": [
    {
     "data": {
      "application/vnd.jupyter.widget-view+json": {
       "model_id": "0cb377a15692436cbdcfced86485fd8c",
       "version_major": 2,
       "version_minor": 0
      },
      "text/plain": [
       "  0%|          | 0/15 [00:00<?, ?it/s]"
      ]
     },
     "metadata": {},
     "output_type": "display_data"
    }
   ],
   "source": [
    "# 모델 훈련\n",
    "als_model.fit(csr_data_transpose)"
   ]
  },
  {
   "cell_type": "markdown",
   "id": "intensive-situation",
   "metadata": {},
   "source": [
    "# 내가 선호하는 5가지 영화 중 하나와 그 외의 영화 하나를 골라 훈련된 모델이 예측한 나의 선호도"
   ]
  },
  {
   "cell_type": "markdown",
   "id": "selective-temperature",
   "metadata": {},
   "source": [
    "### 그 외의 영화와 나의 선호도"
   ]
  },
  {
   "cell_type": "code",
   "execution_count": 19,
   "id": "lined-asian",
   "metadata": {},
   "outputs": [],
   "source": [
    "yong, Indian = user_to_index['yong'], movie_to_index['One Little Indian (1973)']\n",
    "yong_vector, Indian_vector = als_model.user_factors[yong], als_model.item_factors[Indian]"
   ]
  },
  {
   "cell_type": "code",
   "execution_count": 20,
   "id": "cooked-latest",
   "metadata": {},
   "outputs": [
    {
     "data": {
      "text/plain": [
       "array([ 0.22480214,  0.46160257, -1.5183598 ,  0.5244934 ,  0.58305156,\n",
       "        0.3409357 ,  0.23725523, -0.5023298 ,  0.9694103 ,  1.0524305 ,\n",
       "       -0.15059507,  0.17978556, -1.0732318 , -0.62058187, -0.05293965,\n",
       "        0.37705043,  0.21360855,  0.09299643,  0.00624382, -0.10069047,\n",
       "        0.07411563,  0.4777262 ,  0.03521577, -0.2979376 ,  0.74803895,\n",
       "       -0.05442818,  0.5421131 , -1.1894071 ,  0.21960819, -0.4964615 ,\n",
       "        0.73315805,  0.4952786 ,  0.50747424, -0.25467047, -0.70704603,\n",
       "        0.57015747,  0.04910159,  0.3583828 ,  0.8278703 ,  0.18841451,\n",
       "        0.19186734, -0.4875311 ,  0.33107552,  1.0405138 ,  0.07969545,\n",
       "        0.21790336,  0.15576404, -0.00195286, -0.28319672, -0.45151365,\n",
       "       -0.8670765 , -0.3109057 ,  0.82483655, -0.04743959,  0.39143437,\n",
       "       -0.16412537, -0.3744717 ,  0.8098111 ,  0.22401369, -0.6285746 ,\n",
       "       -0.3429966 ,  0.22838785,  0.85356855,  0.4307062 , -0.31661358,\n",
       "       -0.20018607,  0.78848827, -1.0508825 ,  1.0604873 , -0.98837936,\n",
       "        0.33798516, -0.78592676,  0.15249932,  0.03965638,  0.1544532 ,\n",
       "       -0.05881185, -0.41456246, -0.5542428 , -0.08566979,  0.20851268,\n",
       "       -0.09144851, -0.5232413 , -0.1073524 , -0.0522774 ,  0.5966675 ,\n",
       "        0.36090365, -0.19598168,  0.72996587,  0.7094754 , -0.6573012 ,\n",
       "        0.16875878, -0.22067748, -0.11930096, -0.9171437 , -0.8949038 ,\n",
       "       -0.0052788 , -0.64357924,  0.85360354, -0.99372345, -0.19146885],\n",
       "      dtype=float32)"
      ]
     },
     "execution_count": 20,
     "metadata": {},
     "output_type": "execute_result"
    }
   ],
   "source": [
    "yong_vector"
   ]
  },
  {
   "cell_type": "code",
   "execution_count": 21,
   "id": "effective-highlight",
   "metadata": {},
   "outputs": [
    {
     "data": {
      "text/plain": [
       "array([ 8.4572070e-04,  7.3623814e-05, -5.6321762e-04, -3.8367999e-04,\n",
       "       -4.3301781e-05,  6.1073725e-04,  3.4915932e-04,  4.2500040e-05,\n",
       "       -3.8029434e-04,  4.8469278e-04, -2.2637675e-04,  1.1148034e-03,\n",
       "        5.3363439e-04,  1.1390154e-03,  1.7159331e-03,  1.8283495e-03,\n",
       "        1.6606468e-03, -7.3358370e-04, -9.8401033e-05, -1.7152207e-04,\n",
       "        4.8544758e-04,  2.0828313e-04,  8.8600314e-04,  7.2142255e-04,\n",
       "        1.2187596e-03,  3.4213596e-04,  1.6574452e-03,  2.3899073e-04,\n",
       "        3.4461415e-04,  7.5548881e-04,  5.9417065e-04,  9.2250382e-04,\n",
       "        4.4733417e-04,  7.2180334e-04,  5.3428323e-04, -1.9883005e-04,\n",
       "        1.3444970e-03,  1.4440514e-03, -1.3487395e-04, -5.9660965e-06,\n",
       "        1.1754107e-03,  5.4511125e-04,  1.6518114e-03, -3.7775416e-04,\n",
       "        4.8212142e-04, -7.4913353e-04, -3.0555355e-04, -4.9364398e-04,\n",
       "        9.0339727e-04,  3.3535593e-04,  7.6079776e-04,  4.2341743e-04,\n",
       "       -1.1845108e-04, -2.3783695e-04, -1.1408228e-04,  1.0523440e-03,\n",
       "       -2.4744205e-04, -1.2879150e-03, -2.2798069e-04,  2.2722744e-04,\n",
       "        4.5488504e-04,  5.9148320e-04, -2.2405869e-04, -7.1975728e-04,\n",
       "        6.4164033e-04,  7.6260720e-04,  8.5851760e-04, -1.0800808e-03,\n",
       "        1.5199783e-03, -7.1944715e-04,  7.4882322e-04,  4.7646969e-04,\n",
       "        4.3214395e-04, -7.4706844e-04,  7.1719108e-04,  9.7885833e-04,\n",
       "        1.4231906e-03, -3.1219565e-04, -6.2703664e-05, -5.0049170e-05,\n",
       "        5.8436411e-04, -7.0968101e-04,  1.8661779e-04,  8.9732639e-04,\n",
       "       -4.0042985e-05,  9.8186033e-04,  8.7158888e-04,  1.3929267e-03,\n",
       "        8.9221157e-04, -2.3724041e-04,  3.9616253e-04, -3.5142331e-04,\n",
       "       -8.3537301e-04,  1.7038590e-04,  2.2857310e-03,  1.5103067e-03,\n",
       "        2.8766299e-04,  3.5508472e-04,  1.5342456e-03,  6.4454926e-04],\n",
       "      dtype=float32)"
      ]
     },
     "execution_count": 21,
     "metadata": {},
     "output_type": "execute_result"
    }
   ],
   "source": [
    "Indian_vector"
   ]
  },
  {
   "cell_type": "code",
   "execution_count": 22,
   "id": "annual-opening",
   "metadata": {},
   "outputs": [
    {
     "data": {
      "text/plain": [
       "0.002014799"
      ]
     },
     "execution_count": 22,
     "metadata": {},
     "output_type": "execute_result"
    }
   ],
   "source": [
    "np.dot(yong_vector, Indian_vector)"
   ]
  },
  {
   "cell_type": "markdown",
   "id": "introductory-wings",
   "metadata": {},
   "source": [
    "### 내가 고른 영화와 나의 선호도"
   ]
  },
  {
   "cell_type": "code",
   "execution_count": 23,
   "id": "statistical-liberal",
   "metadata": {},
   "outputs": [
    {
     "data": {
      "text/plain": [
       "0.67261416"
      ]
     },
     "execution_count": 23,
     "metadata": {},
     "output_type": "execute_result"
    }
   ],
   "source": [
    "jurassic = movie_to_index['Jurassic Park (1993)']\n",
    "jurassic_vector = als_model.item_factors[jurassic]\n",
    "np.dot(yong_vector, jurassic_vector)"
   ]
  },
  {
   "cell_type": "markdown",
   "id": "minute-angel",
   "metadata": {},
   "source": [
    "# 내가 좋아하는 영화와 비슷한 영화"
   ]
  },
  {
   "cell_type": "code",
   "execution_count": 24,
   "id": "ranging-prefix",
   "metadata": {},
   "outputs": [
    {
     "data": {
      "text/plain": [
       "[(107, 1.0),\n",
       " (175, 0.8255095),\n",
       " (92, 0.71937954),\n",
       " (62, 0.5969508),\n",
       " (124, 0.53946376),\n",
       " (82, 0.48453748),\n",
       " (3466, 0.46653304),\n",
       " (87, 0.4522043),\n",
       " (150, 0.40277708),\n",
       " (1754, 0.3896452),\n",
       " (58, 0.38415742),\n",
       " (179, 0.3817064),\n",
       " (542, 0.37818334),\n",
       " (3136, 0.3728589),\n",
       " (375, 0.3666158),\n",
       " (3482, 0.3608634),\n",
       " (145, 0.35835987),\n",
       " (1122, 0.35264945),\n",
       " (3512, 0.35231575),\n",
       " (3100, 0.35159916),\n",
       " (3141, 0.35061878),\n",
       " (3081, 0.35053456),\n",
       " (3272, 0.34980598),\n",
       " (3481, 0.34953082),\n",
       " (913, 0.34851414),\n",
       " (3435, 0.3473761),\n",
       " (3263, 0.34568083),\n",
       " (1713, 0.3413551),\n",
       " (1930, 0.33880967),\n",
       " (2748, 0.33823875)]"
      ]
     },
     "execution_count": 24,
     "metadata": {},
     "output_type": "execute_result"
    }
   ],
   "source": [
    "movie_id = movie_to_index['Jurassic Park (1993)']\n",
    "similar_movie = als_model.similar_items(movie_id, N=30)\n",
    "similar_movie"
   ]
  },
  {
   "cell_type": "code",
   "execution_count": 25,
   "id": "metropolitan-academy",
   "metadata": {},
   "outputs": [
    {
     "data": {
      "text/plain": [
       "['Jurassic Park (1993)',\n",
       " 'Men in Black (1997)',\n",
       " 'Terminator 2: Judgment Day (1991)',\n",
       " 'Total Recall (1990)',\n",
       " 'Matrix, The (1999)',\n",
       " 'Lost World: Jurassic Park, The (1997)',\n",
       " 'Schlafes Bruder (Brother of Sleep) (1995)',\n",
       " 'Braveheart (1995)',\n",
       " 'Independence Day (ID4) (1996)',\n",
       " 'Little Odessa (1994)',\n",
       " 'Mission: Impossible (1996)',\n",
       " 'Rock, The (1996)',\n",
       " 'Rocky Horror Picture Show, The (1975)',\n",
       " 'Man of No Importance, A (1994)',\n",
       " 'Face/Off (1997)',\n",
       " \"Pot O' Gold (1941)\",\n",
       " 'Fifth Element, The (1997)',\n",
       " 'Repo Man (1984)',\n",
       " 'City of the Living Dead (Paura nella città dei morti viventi) (1980)',\n",
       " 'Little City (1998)',\n",
       " 'Maybe, Maybe Not (Bewegte Mann, Der) (1994)',\n",
       " 'Bedrooms & Hallways (1998)',\n",
       " 'Plenty (1985)',\n",
       " 'Man from Down Under, The (1943)',\n",
       " 'Fly, The (1986)',\n",
       " 'Woman of Paris, A (1923)',\n",
       " 'End of the Affair, The (1955)',\n",
       " 'Mother Night (1996)',\n",
       " 'Bank Dick, The (1940)',\n",
       " 'Bewegte Mann, Der (1994)']"
      ]
     },
     "execution_count": 25,
     "metadata": {},
     "output_type": "execute_result"
    }
   ],
   "source": [
    "# index --> title로 변환\n",
    "idx_to_movie = {v:k for k,v in movie_to_index.items()}\n",
    "[idx_to_movie[i[0]] for i in similar_movie]"
   ]
  },
  {
   "cell_type": "markdown",
   "id": "major-myrtle",
   "metadata": {},
   "source": [
    "# 내가 좋아할만한 영화 추천\n",
    "- ``` AlternatingLeastSquares``` 클래스의 ```recommend``` 메소드를 통하여 아티스트 추천\n",
    "- ``` filter_already_liked_items``` 는 유저가 이미 평가한 아이템은 제외"
   ]
  },
  {
   "cell_type": "code",
   "execution_count": 26,
   "id": "logical-frost",
   "metadata": {},
   "outputs": [
    {
     "data": {
      "text/plain": [
       "[(380, 0.5499301),\n",
       " (50, 0.4875586),\n",
       " (92, 0.4210134),\n",
       " (64, 0.35596204),\n",
       " (435, 0.33011264),\n",
       " (110, 0.30976373),\n",
       " (124, 0.29830334),\n",
       " (87, 0.29037082),\n",
       " (4, 0.28261966),\n",
       " (99, 0.26020402),\n",
       " (150, 0.2568618),\n",
       " (322, 0.25397065),\n",
       " (60, 0.24651954),\n",
       " (62, 0.243576),\n",
       " (44, 0.22999674),\n",
       " (48, 0.21631491),\n",
       " (33, 0.20830324),\n",
       " (117, 0.20520645),\n",
       " (141, 0.20276405),\n",
       " (475, 0.20223151)]"
      ]
     },
     "execution_count": 26,
     "metadata": {},
     "output_type": "execute_result"
    }
   ],
   "source": [
    "user = user_to_index['yong']\n",
    "\n",
    "movie_recommended = als_model.recommend(user, csr_data, N=20, filter_already_liked_items=True)\n",
    "movie_recommended"
   ]
  },
  {
   "cell_type": "code",
   "execution_count": 27,
   "id": "sacred-windsor",
   "metadata": {},
   "outputs": [
    {
     "data": {
      "text/plain": [
       "['Godfather: Part II, The (1974)',\n",
       " 'Toy Story 2 (1999)',\n",
       " 'Terminator 2: Judgment Day (1991)',\n",
       " 'Star Wars: Episode VI - Return of the Jedi (1983)',\n",
       " 'Godfather: Part III, The (1990)',\n",
       " 'Groundhog Day (1993)',\n",
       " 'Matrix, The (1999)',\n",
       " 'Braveheart (1995)',\n",
       " \"Bug's Life, A (1998)\",\n",
       " 'American Beauty (1999)',\n",
       " 'Independence Day (ID4) (1996)',\n",
       " 'Babe (1995)',\n",
       " 'Star Wars: Episode I - The Phantom Menace (1999)',\n",
       " 'Total Recall (1990)',\n",
       " 'Star Wars: Episode IV - A New Hope (1977)',\n",
       " 'Saving Private Ryan (1998)',\n",
       " 'Aladdin (1992)',\n",
       " 'Star Wars: Episode V - The Empire Strikes Back (1980)',\n",
       " 'Fugitive, The (1993)',\n",
       " 'My Cousin Vinny (1992)']"
      ]
     },
     "execution_count": 27,
     "metadata": {},
     "output_type": "execute_result"
    }
   ],
   "source": [
    "# 추천받은 영화들\n",
    "[idx_to_movie[i[0]] for i in movie_recommended]"
   ]
  },
  {
   "cell_type": "markdown",
   "id": "understanding-tours",
   "metadata": {},
   "source": [
    "# 추천기여도"
   ]
  },
  {
   "cell_type": "code",
   "execution_count": 28,
   "id": "nasty-significance",
   "metadata": {},
   "outputs": [
    {
     "data": {
      "text/plain": [
       "[('Godfather, The (1972)', 0.568756497491809),\n",
       " ('Jurassic Park (1993)', 0.005509566520927575),\n",
       " ('Toy Story (1995)', -0.005393772265000334),\n",
       " ('Forrest Gump (1994)', -0.012884542473940469),\n",
       " ('Men in Black (1997)', -0.015236960410370762)]"
      ]
     },
     "execution_count": 28,
     "metadata": {},
     "output_type": "execute_result"
    }
   ],
   "source": [
    "father = movie_to_index['Godfather: Part II, The (1974)']\n",
    "explain = als_model.explain(user, csr_data, itemid=father)\n",
    "[(idx_to_movie[i[0]], i[1]) for i in explain[1]]"
   ]
  },
  {
   "cell_type": "markdown",
   "id": "standing-quilt",
   "metadata": {},
   "source": [
    "### 고찰\n",
    "- 마지막의 추천 기여도는 Godfather 1 시리즈의 영향을 가장 많이 받은걸로 나온 것으로 보아 기여도 추천이 어느정도 잘됐다고 생각."
   ]
  },
  {
   "cell_type": "code",
   "execution_count": null,
   "id": "superior-quebec",
   "metadata": {},
   "outputs": [],
   "source": []
  }
 ],
 "metadata": {
  "kernelspec": {
   "display_name": "Python 3",
   "language": "python",
   "name": "python3"
  },
  "language_info": {
   "codemirror_mode": {
    "name": "ipython",
    "version": 3
   },
   "file_extension": ".py",
   "mimetype": "text/x-python",
   "name": "python",
   "nbconvert_exporter": "python",
   "pygments_lexer": "ipython3",
   "version": "3.7.9"
  }
 },
 "nbformat": 4,
 "nbformat_minor": 5
}
